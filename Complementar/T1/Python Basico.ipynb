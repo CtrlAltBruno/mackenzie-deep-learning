{
 "cells": [
  {
   "cell_type": "markdown",
   "metadata": {},
   "source": [
    "# Desvendando Python"
   ]
  },
  {
   "cell_type": "code",
   "execution_count": 1,
   "metadata": {},
   "outputs": [
    {
     "name": "stdout",
     "output_type": "stream",
     "text": [
      "Olá mundo\n"
     ]
    }
   ],
   "source": [
    "print(\"Olá mundo\")"
   ]
  },
  {
   "cell_type": "markdown",
   "metadata": {},
   "source": [
    "## Um pouco de História e algumas dicas"
   ]
  },
  {
   "cell_type": "markdown",
   "metadata": {},
   "source": [
    "O python foi criado em 1989 em Amsterdã na Holanda por Guido Van Hossum. \n",
    "O nome Python teve a sua origem inspirado pelo grupo humorístico britânico Monty Python's Flying Circus.\n",
    "A organização Python Software Foundation responsável pela documentação foi fundada logo depois em 2001.\n",
    "O python é utilizado pela Google, Microsoft, Youtube, Games, Air Canada, NASA dentre outros.\n",
    "O python está presente em Computação 3D, Biotecnologia, Inteligência Artifical e Programação em geral.\n",
    "O python é nativo no Mac e no Linux, mas precisa ser instalado no Windows.\n",
    "\n",
    "Algumas Características.\n",
    "\n",
    "O python é:\n",
    "- Uma linguagem de propósito geral\n",
    "- Fácil e intuitiva\n",
    "- Multiplataforma\n",
    "- Open Source\n",
    "- Possui muitas biblotecas(pacotes de ferramentas)\n",
    "- Orientada a Objeto\n",
    "- Organizado / Identado\n",
    "\n",
    "Instale o programa baixando sua versão pelo site:\n",
    "https://www.python.org/downloads/\n",
    "\n",
    "Ou instale o Pacote Anaconda que traz o jupyter notebook:\n",
    "https://www.anaconda.com/distribution/#download-section\n",
    "\n",
    "Você pode utilizar o python de várias formas:\n",
    "\n",
    "1 -  Modo terminal em shell script\n",
    "No Windows digite cmd em pesquisar para abrir o terminal, em seguida digite python para chamar o python e comece a utilizar os comandos e para finalizar digite exit().\n",
    "\n",
    "2 -  Através do IDLE que é como um shell script\n",
    "No windows, digite IDLE em pesquisar e clique no IDLE (python, v XX-bit), será aberta uma tela parecida com a do Shell script do Sistema Operacional porém mais colorido e organizado e pode utilizar um menu para melhor interagir com os recursos.\n",
    "\n",
    "3 - Pode utilizar em um programa com interface visual como (spyder que vem no pacote anaconda, pycharm)\n",
    "Utilize a Instalação através dos sites dos fornecedores:\n",
    "https://www.jetbrains.com/pycharm/download/#section=windows\n",
    "https://www.spyder-ide.org/\n",
    "\n",
    "4 - Pode utilizar no Jupyter Notebook como localhost\n",
    "\n",
    "5 - você pode utilizar o Jupyter Notebook do Google Colab:\n",
    "https://colab.research.google.com/notebooks/welcome.ipynb\n",
    "\n",
    "O caminho padrão para salvar arquivos no jupyternotebook é C:\\Users\\usuario , você deve informar esse diretório para salvar, informar o nome do arquivo/programa com .ipynb no final como extensão. Caso você chame o jupyter notebook pelo cmd, ele executará e salvará os arquivos na pasta de onde foi chamado.\n",
    "\n",
    "A parte legal de utilizar o Jupyter notebook é que você pode utilizar as células de Markdown para documentar seu projeto e o Code para inserir os códigos que já vem com o play/run ao lado para fazer a execução.\n",
    "\n",
    "O Python é uma linguagem de alto nível, interpretada, orientada a objetos, a identação define os blocos deixando a liguagem mais limpa."
   ]
  },
  {
   "cell_type": "markdown",
   "metadata": {},
   "source": [
    "## Operações"
   ]
  },
  {
   "cell_type": "code",
   "execution_count": 2,
   "metadata": {},
   "outputs": [
    {
     "data": {
      "text/plain": [
       "2"
      ]
     },
     "execution_count": 2,
     "metadata": {},
     "output_type": "execute_result"
    }
   ],
   "source": [
    "#soma\n",
    "1+1"
   ]
  },
  {
   "cell_type": "code",
   "execution_count": 3,
   "metadata": {},
   "outputs": [
    {
     "data": {
      "text/plain": [
       "-3"
      ]
     },
     "execution_count": 3,
     "metadata": {},
     "output_type": "execute_result"
    }
   ],
   "source": [
    "#subtração\n",
    "5 - 8"
   ]
  },
  {
   "cell_type": "code",
   "execution_count": 4,
   "metadata": {},
   "outputs": [
    {
     "data": {
      "text/plain": [
       "5.0"
      ]
     },
     "execution_count": 4,
     "metadata": {},
     "output_type": "execute_result"
    }
   ],
   "source": [
    "#divisão\n",
    "15 / 3"
   ]
  },
  {
   "cell_type": "code",
   "execution_count": 5,
   "metadata": {},
   "outputs": [
    {
     "data": {
      "text/plain": [
       "12"
      ]
     },
     "execution_count": 5,
     "metadata": {},
     "output_type": "execute_result"
    }
   ],
   "source": [
    "#operação simples\n",
    "2 + 5 * 2"
   ]
  },
  {
   "cell_type": "code",
   "execution_count": 6,
   "metadata": {},
   "outputs": [
    {
     "data": {
      "text/plain": [
       "14"
      ]
     },
     "execution_count": 6,
     "metadata": {},
     "output_type": "execute_result"
    }
   ],
   "source": [
    "#operação por prioridade de ()\n",
    "(2 + 5) * 2"
   ]
  },
  {
   "cell_type": "code",
   "execution_count": 7,
   "metadata": {},
   "outputs": [
    {
     "data": {
      "text/plain": [
       "-59"
      ]
     },
     "execution_count": 7,
     "metadata": {},
     "output_type": "execute_result"
    }
   ],
   "source": [
    "#operação por prioridade de ()\n",
    "3 - (4 * 20 + (3 - (3 * 7)))"
   ]
  },
  {
   "cell_type": "code",
   "execution_count": 8,
   "metadata": {},
   "outputs": [
    {
     "data": {
      "text/plain": [
       "8"
      ]
     },
     "execution_count": 8,
     "metadata": {},
     "output_type": "execute_result"
    }
   ],
   "source": [
    "#potencia\n",
    "2 ** 3"
   ]
  },
  {
   "cell_type": "code",
   "execution_count": 9,
   "metadata": {},
   "outputs": [
    {
     "data": {
      "text/plain": [
       "2"
      ]
     },
     "execution_count": 9,
     "metadata": {},
     "output_type": "execute_result"
    }
   ],
   "source": [
    "#divisao inteira\n",
    "5//2"
   ]
  },
  {
   "cell_type": "code",
   "execution_count": 10,
   "metadata": {},
   "outputs": [
    {
     "data": {
      "text/plain": [
       "3.3333333333333335"
      ]
     },
     "execution_count": 10,
     "metadata": {},
     "output_type": "execute_result"
    }
   ],
   "source": [
    "# temos dizimas de casas decimais\n",
    "10 / 3"
   ]
  },
  {
   "cell_type": "code",
   "execution_count": 11,
   "metadata": {},
   "outputs": [
    {
     "data": {
      "text/plain": [
       "1"
      ]
     },
     "execution_count": 11,
     "metadata": {},
     "output_type": "execute_result"
    }
   ],
   "source": [
    "#divisão resto\n",
    "5 % 2"
   ]
  },
  {
   "cell_type": "raw",
   "metadata": {},
   "source": [
    "Operadores\n",
    "== igual\n",
    "!= diferente\n",
    "> maior\n",
    "< menor\n",
    ">= maior ou igual\n",
    "<= menor ou igual"
   ]
  },
  {
   "cell_type": "raw",
   "metadata": {},
   "source": [
    "Opeadores lógicos\n",
    "and - e (uma condição e outra)\n",
    "or - ou (uma condição ou outra)\n",
    "not - não (negativa de condição, quando for falso, quando nçao estiver na condição)"
   ]
  },
  {
   "cell_type": "code",
   "execution_count": 12,
   "metadata": {},
   "outputs": [
    {
     "data": {
      "text/plain": [
       "False"
      ]
     },
     "execution_count": 12,
     "metadata": {},
     "output_type": "execute_result"
    }
   ],
   "source": [
    "#comparação\n",
    "2 > 5"
   ]
  },
  {
   "cell_type": "code",
   "execution_count": 13,
   "metadata": {},
   "outputs": [
    {
     "data": {
      "text/plain": [
       "True"
      ]
     },
     "execution_count": 13,
     "metadata": {},
     "output_type": "execute_result"
    }
   ],
   "source": [
    "#comparação\n",
    "10 < 20"
   ]
  },
  {
   "cell_type": "code",
   "execution_count": 14,
   "metadata": {},
   "outputs": [
    {
     "data": {
      "text/plain": [
       "True"
      ]
     },
     "execution_count": 14,
     "metadata": {},
     "output_type": "execute_result"
    }
   ],
   "source": [
    "#comparação\n",
    "5 <= 5"
   ]
  },
  {
   "cell_type": "code",
   "execution_count": 15,
   "metadata": {},
   "outputs": [
    {
     "data": {
      "text/plain": [
       "True"
      ]
     },
     "execution_count": 15,
     "metadata": {},
     "output_type": "execute_result"
    }
   ],
   "source": [
    "#comparação de igualdade == resultado de operações\n",
    "9 **2 == 80 + 1"
   ]
  },
  {
   "cell_type": "code",
   "execution_count": 16,
   "metadata": {},
   "outputs": [
    {
     "data": {
      "text/plain": [
       "True"
      ]
     },
     "execution_count": 16,
     "metadata": {},
     "output_type": "execute_result"
    }
   ],
   "source": [
    "#comparação de diferenças !=\n",
    "20 !=30"
   ]
  },
  {
   "cell_type": "code",
   "execution_count": 17,
   "metadata": {},
   "outputs": [
    {
     "data": {
      "text/plain": [
       "int"
      ]
     },
     "execution_count": 17,
     "metadata": {},
     "output_type": "execute_result"
    }
   ],
   "source": [
    "#perguntando tipos dos dados\n",
    "type(10)"
   ]
  },
  {
   "cell_type": "code",
   "execution_count": 18,
   "metadata": {},
   "outputs": [
    {
     "data": {
      "text/plain": [
       "str"
      ]
     },
     "execution_count": 18,
     "metadata": {},
     "output_type": "execute_result"
    }
   ],
   "source": [
    "#perguntando tipo dos dados\n",
    "type(\"tudo bem?\")"
   ]
  },
  {
   "cell_type": "code",
   "execution_count": 19,
   "metadata": {},
   "outputs": [
    {
     "data": {
      "text/plain": [
       "float"
      ]
     },
     "execution_count": 19,
     "metadata": {},
     "output_type": "execute_result"
    }
   ],
   "source": [
    "#perguntando tipo\n",
    "type(5/2)"
   ]
  },
  {
   "cell_type": "markdown",
   "metadata": {},
   "source": [
    "## Imputando Dados"
   ]
  },
  {
   "cell_type": "code",
   "execution_count": 20,
   "metadata": {},
   "outputs": [
    {
     "name": "stdout",
     "output_type": "stream",
     "text": [
      "Digite seu nome aqui\n"
     ]
    },
    {
     "data": {
      "text/plain": [
       "''"
      ]
     },
     "execution_count": 20,
     "metadata": {},
     "output_type": "execute_result"
    }
   ],
   "source": [
    "input(\"Digite seu nome aqui\")"
   ]
  },
  {
   "cell_type": "markdown",
   "metadata": {},
   "source": [
    "## Imprimindo Dados "
   ]
  },
  {
   "cell_type": "code",
   "execution_count": 21,
   "metadata": {},
   "outputs": [
    {
     "name": "stdout",
     "output_type": "stream",
     "text": [
      "Hello World\n"
     ]
    }
   ],
   "source": [
    "print(\"Hello World\")"
   ]
  },
  {
   "cell_type": "markdown",
   "metadata": {},
   "source": [
    "## Criando variáveis"
   ]
  },
  {
   "cell_type": "code",
   "execution_count": 28,
   "metadata": {},
   "outputs": [
    {
     "name": "stdout",
     "output_type": "stream",
     "text": [
      "Digite seu nome: carlos\n"
     ]
    }
   ],
   "source": [
    "nome = input(\"Digite seu nome: \")"
   ]
  },
  {
   "cell_type": "code",
   "execution_count": 29,
   "metadata": {},
   "outputs": [
    {
     "name": "stdout",
     "output_type": "stream",
     "text": [
      "Digite um número: 1\n",
      "Digite outro número: 2\n"
     ]
    }
   ],
   "source": [
    "num1 = input(\"Digite um número: \")\n",
    "num2 = input(\"Digite outro número: \")"
   ]
  },
  {
   "cell_type": "markdown",
   "metadata": {},
   "source": [
    "## Utilizando variáveis"
   ]
  },
  {
   "cell_type": "code",
   "execution_count": 30,
   "metadata": {},
   "outputs": [
    {
     "name": "stdout",
     "output_type": "stream",
     "text": [
      "carlos chegou primeiro\n"
     ]
    }
   ],
   "source": [
    "print( nome, \"chegou primeiro\")"
   ]
  },
  {
   "cell_type": "code",
   "execution_count": 31,
   "metadata": {},
   "outputs": [
    {
     "name": "stdout",
     "output_type": "stream",
     "text": [
      "Requirement already satisfied: matplotlib in c:\\users\\andrea.longarini\\appdata\\local\\continuum\\anaconda3\\lib\\site-packages (3.1.1)\n",
      "Requirement already satisfied: cycler>=0.10 in c:\\users\\andrea.longarini\\appdata\\local\\continuum\\anaconda3\\lib\\site-packages (from matplotlib) (0.10.0)\n",
      "Requirement already satisfied: kiwisolver>=1.0.1 in c:\\users\\andrea.longarini\\appdata\\local\\continuum\\anaconda3\\lib\\site-packages (from matplotlib) (1.1.0)\n",
      "Requirement already satisfied: pyparsing!=2.0.4,!=2.1.2,!=2.1.6,>=2.0.1 in c:\\users\\andrea.longarini\\appdata\\local\\continuum\\anaconda3\\lib\\site-packages (from matplotlib) (2.4.2)\n",
      "Requirement already satisfied: python-dateutil>=2.1 in c:\\users\\andrea.longarini\\appdata\\local\\continuum\\anaconda3\\lib\\site-packages (from matplotlib) (2.8.0)\n",
      "Requirement already satisfied: numpy>=1.11 in c:\\users\\andrea.longarini\\appdata\\local\\continuum\\anaconda3\\lib\\site-packages (from matplotlib) (1.16.5)\n",
      "Requirement already satisfied: six in c:\\users\\andrea.longarini\\appdata\\local\\continuum\\anaconda3\\lib\\site-packages (from cycler>=0.10->matplotlib) (1.12.0)\n",
      "Requirement already satisfied: setuptools in c:\\users\\andrea.longarini\\appdata\\local\\continuum\\anaconda3\\lib\\site-packages (from kiwisolver>=1.0.1->matplotlib) (41.4.0)\n"
     ]
    }
   ],
   "source": [
    "#instalando Bibliotecas\n",
    "!pip install matplotlib\n",
    "#importando bibliotecas\n",
    "import matplotlib as plt"
   ]
  },
  {
   "cell_type": "code",
   "execution_count": 15,
   "metadata": {},
   "outputs": [
    {
     "name": "stdout",
     "output_type": "stream",
     "text": [
      "A soma de  2  e  3  é  5\n"
     ]
    }
   ],
   "source": [
    "soma = int(num1)+int(num2)\n",
    "print(\"A soma de \", num1 , \" e \", num2 , \" é \", soma)"
   ]
  },
  {
   "cell_type": "code",
   "execution_count": 16,
   "metadata": {},
   "outputs": [
    {
     "name": "stdout",
     "output_type": "stream",
     "text": [
      "A soma de  2  e  3  é  23\n"
     ]
    }
   ],
   "source": [
    "#fazer soma sem conversão da variável, concatena os valores em vez de somar\n",
    "print(\"A soma de \", num1 , \" e \", num2 , \" é \", num1+num2)"
   ]
  },
  {
   "cell_type": "markdown",
   "metadata": {},
   "source": [
    "## Tipos de Dados ou Tipos primitivos"
   ]
  },
  {
   "cell_type": "markdown",
   "metadata": {},
   "source": [
    "Os tipos primitivos de dados são 4:\n",
    "\n",
    "- int ( 7 , -4, 0, 9875) são números inteiros, sejam positivos ou negativos\n",
    "- float (4.5, 0.076, -15.223, 7.0) são números reais, sejam positivos ou negativos\n",
    "- bool (True, False) tipo binário verdadeiro ou falso\n",
    "- str ( \"Olá\", \"7,5\", \"\") - strings ou caracteres de texto"
   ]
  },
  {
   "cell_type": "code",
   "execution_count": 18,
   "metadata": {},
   "outputs": [
    {
     "name": "stdout",
     "output_type": "stream",
     "text": [
      "digite algo: abs\n",
      "False\n"
     ]
    }
   ],
   "source": [
    "#testando tipos de dados numerico\n",
    "n = input(\"digite algo: \")\n",
    "# testando numerico verificando se o que foi digitado é tipo int ou não\n",
    "print(n.isnumeric())"
   ]
  },
  {
   "cell_type": "code",
   "execution_count": 92,
   "metadata": {},
   "outputs": [
    {
     "name": "stdout",
     "output_type": "stream",
     "text": [
      "digite algo: a\n",
      "True\n"
     ]
    }
   ],
   "source": [
    " #testando tipos de dados de texto\n",
    "n = input(\"digite algo: \")\n",
    "# testando str - verificando se é texto ou string\n",
    "print(n.isalpha())"
   ]
  },
  {
   "cell_type": "code",
   "execution_count": 87,
   "metadata": {},
   "outputs": [
    {
     "name": "stdout",
     "output_type": "stream",
     "text": [
      "digite algo: 9876\n",
      "True\n"
     ]
    }
   ],
   "source": [
    "#testando tipos de dados decimal\n",
    "n = input(\"digite algo: \")\n",
    "# testando str - verificando se é texto ou string\n",
    "print(n.isdecimal())"
   ]
  },
  {
   "cell_type": "code",
   "execution_count": 88,
   "metadata": {},
   "outputs": [
    {
     "name": "stdout",
     "output_type": "stream",
     "text": [
      "digite algo: 123 3\n",
      "False\n"
     ]
    }
   ],
   "source": [
    "#Exemplo de string com dígitos:\n",
    "n = input(\"digite algo: \")\n",
    "# testando str - verificando se é texto ou string\n",
    "print(n.isdigit())"
   ]
  },
  {
   "cell_type": "code",
   "execution_count": null,
   "metadata": {},
   "outputs": [],
   "source": [
    "#Faça um programa que leia algo pelo teclado e mostre na tela o tipo de variável e todas as informações possíveis sobre ele\n",
    "\n",
    "dado = input(\"Digite alguma informação: \")\n",
    "print(\"So tem espaços? \", dado.isspace())\n",
    "print(\"O tipo primitivo desse valor é:\" , type(dado))\n",
    "print(\"É um número? \", dado.isnumeric())\n",
    "print(\"É um alfabetico? \", dado.isalpha())\n",
    "print(\"É alfanumérico? \", dado.isalnum())\n",
    "print(\"É decimal? \", dado.isdecimal())\n",
    "print (\"Está em Maiúsculo? \", dado.isupper())\n",
    "print(\"Está em Minusculo? \", dado.islower())\n",
    "print(\"Está Capitalizada? \", dado.istitle())"
   ]
  },
  {
   "cell_type": "code",
   "execution_count": 71,
   "metadata": {},
   "outputs": [
    {
     "name": "stdout",
     "output_type": "stream",
     "text": [
      "Digite um número: 22\n",
      "\n",
      "Digite mais um número: 55\n",
      "\n",
      "A soma dos vale:  77\n",
      "A soma vale 77 \n",
      "A soma entre 22 e 55, vale 77\n",
      "A soma entre 22 e 55, vale 77\n",
      "A soma entre 55 e 22, vale 77\n",
      " 77 é a soma  de 55 e 22\n"
     ]
    }
   ],
   "source": [
    "# Organizando a impressão das variáveis\n",
    "n1 = int(input(\"Digite um número: \"))\n",
    "print()\n",
    "n2 = int(input(\"Digite mais um número: \"))\n",
    "print()\n",
    "\n",
    "s = n1 + n2\n",
    "\n",
    "#print normal\n",
    "print(\"A soma dos vale: \", s)\n",
    "\n",
    "#utilizando format\n",
    "print(\"A soma vale {} \".format(s))\n",
    "\n",
    "#utilizando vários format na sequencia sem informar sequecia\n",
    "print(\"A soma entre {} e {}, vale {}\".format(n1, n2, s))\n",
    "\n",
    "#utilizando vários format na sequencia, informando sequencia\n",
    "print(\"A soma entre {0} e {1}, vale {2}\".format(n1, n2, s))\n",
    "\n",
    "#utilizando vários format invertendo a sequencia\n",
    "print(\"A soma entre {1} e {0}, vale {2}\".format(n1, n2, s))\n",
    "\n",
    "#utilizando vários format invertendo tudo\n",
    "print(\" {2} é a soma  de {1} e {0}\".format(n1, n2, s))"
   ]
  },
  {
   "cell_type": "markdown",
   "metadata": {},
   "source": [
    "## Conversão de tipos de variáveis"
   ]
  },
  {
   "cell_type": "code",
   "execution_count": 19,
   "metadata": {},
   "outputs": [
    {
     "name": "stdout",
     "output_type": "stream",
     "text": [
      "Informe o valor: 23\n",
      "<class 'str'>\n",
      "<class 'int'>\n"
     ]
    }
   ],
   "source": [
    "#para inteiro\n",
    "var = input(\"Informe o valor: \")\n",
    "#entrou como string\n",
    "print(type(var))\n",
    "#muda o tipo para inteiro\n",
    "var = int(var)\n",
    "print(type(var))"
   ]
  },
  {
   "cell_type": "code",
   "execution_count": 20,
   "metadata": {},
   "outputs": [
    {
     "name": "stdout",
     "output_type": "stream",
     "text": [
      "Informe o valor: 234\n",
      "<class 'str'>\n",
      "<class 'float'>\n"
     ]
    }
   ],
   "source": [
    "#para float\n",
    "var = input(\"Informe o valor: \")\n",
    "#entrou como string\n",
    "print(type(var))\n",
    "#muda o tipo para float\n",
    "var = float(var)\n",
    "print(type(var))"
   ]
  },
  {
   "cell_type": "markdown",
   "metadata": {},
   "source": [
    "### Centralizando e Alinhando Textos"
   ]
  },
  {
   "cell_type": "code",
   "execution_count": 12,
   "metadata": {},
   "outputs": [
    {
     "name": "stdout",
     "output_type": "stream",
     "text": [
      "Qual é o seu nome?Eu\n",
      "Prazer em te conhecer                  Eu\n",
      "Prazer em te conhecer         Eu         \n",
      "Prazer em te conhecerEu                  \n",
      "Prazer em te conhecer*********Eu*********\n"
     ]
    }
   ],
   "source": [
    "nome= input(\"Qual é o seu nome?\")\n",
    "\n",
    "# alinhado a esquerda\n",
    "print(\"Prazer em te conhecer{:>20}\".format(nome))\n",
    "\n",
    "#Centralizado\n",
    "print(\"Prazer em te conhecer{:^20}\".format(nome))\n",
    "\n",
    "#Alinhado à Esquerda\n",
    "print(\"Prazer em te conhecer{:<20}\".format(nome))\n",
    "\n",
    "#Centralizando e complentando com caracteres\n",
    "print(\"Prazer em te conhecer{:*^20}\".format(nome))"
   ]
  },
  {
   "cell_type": "markdown",
   "metadata": {},
   "source": [
    "### Criando vetores"
   ]
  },
  {
   "cell_type": "code",
   "execution_count": 21,
   "metadata": {},
   "outputs": [
    {
     "data": {
      "text/plain": [
       "[21, 22, 23, 24]"
      ]
     },
     "execution_count": 21,
     "metadata": {},
     "output_type": "execute_result"
    }
   ],
   "source": [
    "#os vetores podem ser alterados após terem sido criados\n",
    "vet = [21, 22, 23, 24]\n",
    "vet"
   ]
  },
  {
   "cell_type": "code",
   "execution_count": null,
   "metadata": {},
   "outputs": [],
   "source": [
    "#inserindo valores a um vetor\n"
   ]
  },
  {
   "cell_type": "markdown",
   "metadata": {},
   "source": [
    "### Criando Tuplas"
   ]
  },
  {
   "cell_type": "code",
   "execution_count": 23,
   "metadata": {},
   "outputs": [
    {
     "data": {
      "text/plain": [
       "(1, 2, 3)"
      ]
     },
     "execution_count": 23,
     "metadata": {},
     "output_type": "execute_result"
    }
   ],
   "source": [
    "#tuplas não podem ser alteradas apos terem sido criadas, são para fins específicos\n",
    "tupla = (1,2,3)\n",
    "tupla"
   ]
  },
  {
   "cell_type": "markdown",
   "metadata": {},
   "source": [
    "### Criando matrizes"
   ]
  },
  {
   "cell_type": "code",
   "execution_count": 32,
   "metadata": {},
   "outputs": [
    {
     "data": {
      "text/plain": [
       "[[0, 0, 1], [0, 1, 0], [0, 0, 1]]"
      ]
     },
     "execution_count": 32,
     "metadata": {},
     "output_type": "execute_result"
    }
   ],
   "source": [
    "#cria a matriz \n",
    "matriz = [[0,0,1],[0,1,0],[0,0,1]]\n",
    "#imprime a matriz\n",
    "matriz"
   ]
  },
  {
   "cell_type": "code",
   "execution_count": 31,
   "metadata": {},
   "outputs": [
    {
     "name": "stdout",
     "output_type": "stream",
     "text": [
      "[0, 0, 1]\n",
      "[0, 1, 0]\n",
      "[0, 0, 1]\n"
     ]
    }
   ],
   "source": [
    "#Imprime a atriz por linhas\n",
    "for i in range(0,3):\n",
    "    print(matriz[i])"
   ]
  },
  {
   "cell_type": "code",
   "execution_count": 33,
   "metadata": {},
   "outputs": [
    {
     "data": {
      "text/plain": [
       "[[0, 0, 1], [0, 1, 2], [0, 0, 1]]"
      ]
     },
     "execution_count": 33,
     "metadata": {},
     "output_type": "execute_result"
    }
   ],
   "source": [
    "#alterando os elemntos da matriz da lina 1 coluna 2, sendo que as colunas iniciam em 0\n",
    "matriz[1][2] = 2\n",
    "matriz\n"
   ]
  },
  {
   "cell_type": "markdown",
   "metadata": {},
   "source": [
    "### Criando listas"
   ]
  },
  {
   "cell_type": "code",
   "execution_count": null,
   "metadata": {},
   "outputs": [],
   "source": [
    "#http://devfuria.com.br/python/\n",
    "animals = [\"pangolin\", \"cassowary\", \"sloth\", \"dog\"];\n",
    "animals[0]   # 'pangolin'\n",
    "animals[1]   # 'cassowary'\n",
    "animals[2]   # 'sloth'\n",
    "animals[3]   # 'dog'"
   ]
  },
  {
   "cell_type": "raw",
   "metadata": {},
   "source": [
    "contamos os elementos da lista a partir do zero\n",
    "+-------------+-------------+-------------+-------------+-------------+\n",
    "| \"pangolin\"  | \"cassowary\" |   \"sloth\"   |    \"dog\"    |lanca um erro|\n",
    "+-------------+-------------+-------------+-------------+-------------+\n",
    "      0              1             2              3            4"
   ]
  },
  {
   "cell_type": "code",
   "execution_count": null,
   "metadata": {},
   "outputs": [],
   "source": [
    "#juntando listas\n",
    "m = [1, 2, 3]\n",
    "n = [4, 5, 6]\n",
    "o = m + n\n",
    "print(o) # [1, 2, 3, 4, 5, 6]\n",
    "\n",
    "o += [7, 8, 9]\n",
    "print(o) # [1, 2, 3, 4, 5, 6, 7, 8, 9]"
   ]
  },
  {
   "cell_type": "code",
   "execution_count": null,
   "metadata": {},
   "outputs": [],
   "source": [
    "#adicionando itens na lista com append()\n",
    "nums = [\"um\"]\n",
    "print(nums) # ['um']\n",
    "\n",
    "nums.append(\"dois\")\n",
    "nums.append(\"tres\")\n",
    "nums.append(\"quatro\")\n",
    "print(nums) # ['um', 'dois', 'tres', 'quatro']"
   ]
  },
  {
   "cell_type": "code",
   "execution_count": null,
   "metadata": {},
   "outputs": [],
   "source": [
    "#inserindo outro valor na posição replace\n",
    "animals = [\"ant\", \"bat\", \"cat\"]\n",
    "animals.insert(1, \"dog\")\n",
    "print(animals) # [\"ant\", \"dog\", \"bat\", \"cat\"]"
   ]
  },
  {
   "cell_type": "code",
   "execution_count": null,
   "metadata": {},
   "outputs": [],
   "source": [
    "#removendo um valor\n",
    "animals = [\"ant\", \"bat\", \"cat\"]\n",
    "animals.remove(\"ant\")\n",
    "print(animals) # [\"bat\", \"cat\"]"
   ]
  },
  {
   "cell_type": "code",
   "execution_count": null,
   "metadata": {},
   "outputs": [],
   "source": [
    "#remove através do indice\n",
    "animals = [\"ant\", \"bat\", \"cat\"]\n",
    "animals.pop(0) # 'ant'\n",
    "print(animals) # [\"bat\", \"cat\"]"
   ]
  },
  {
   "cell_type": "code",
   "execution_count": null,
   "metadata": {},
   "outputs": [],
   "source": [
    "#utilizando del para apagar\n",
    "animals = [\"ant\", \"bat\", \"cat\"]\n",
    "del(animals[0])\n",
    "print(animals) # [\"bat\", \"cat\"]"
   ]
  },
  {
   "cell_type": "markdown",
   "metadata": {},
   "source": [
    "### Criando dicionários"
   ]
  },
  {
   "cell_type": "code",
   "execution_count": null,
   "metadata": {},
   "outputs": [],
   "source": [
    "people = {\n",
    "    \"name\": \"joao\",\n",
    "    \"age\": 39,\n",
    "    \"skylls\": ['python', 'ruby', 'php']\n",
    "}"
   ]
  },
  {
   "cell_type": "code",
   "execution_count": null,
   "metadata": {},
   "outputs": [],
   "source": [
    "#atribuindo valores\n",
    "print people['age']= 40"
   ]
  }
 ],
 "metadata": {
  "kernelspec": {
   "display_name": "Python 3",
   "language": "python",
   "name": "python3"
  },
  "language_info": {
   "codemirror_mode": {
    "name": "ipython",
    "version": 3
   },
   "file_extension": ".py",
   "mimetype": "text/x-python",
   "name": "python",
   "nbconvert_exporter": "python",
   "pygments_lexer": "ipython3",
   "version": "3.8.3"
  }
 },
 "nbformat": 4,
 "nbformat_minor": 2
}
