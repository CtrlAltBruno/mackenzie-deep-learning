{
 "cells": [
  {
   "cell_type": "markdown",
   "id": "Gv20O0OW44N9",
   "metadata": {
    "id": "Gv20O0OW44N9"
   },
   "source": [
    "<head>\n",
    "  <meta name=\"author\" content=\"Rogério de Oliveira\">\n",
    "  <meta institution=\"author\" content=\"Universidade Presbiteriana Mackenzie\">\n",
    "</head>\n",
    "\n",
    "<img src=\"http://meusite.mackenzie.br/rogerio/mackenzie_logo/UPM.2_horizontal_vermelho.jpg\" width=300, align=\"right\">\n",
    "\n",
    "<h1 align=left><font size = 8\"><b>Inteligência Artificial</b></font></h1>\n",
    "<h1 align=left><font size = 6\"><b>Deep Learning</b></font></h1>\n",
    "\n",
    "# Atividade: T4 - Atividade de aprofundamento\n",
    "\n",
    "Nome: Bruno Rebocho de Toledo\n",
    "\n",
    "Turma: 01B\n",
    "\n",
    "Matrícula: 92316328"
   ]
  },
  {
   "cell_type": "markdown",
   "id": "7c698c72-7277-4299-b593-24904b79f511",
   "metadata": {
    "id": "7c698c72-7277-4299-b593-24904b79f511"
   },
   "source": [
    "---\n",
    "## Introdução\n",
    "\n",
    "Este notebook tem como objetivo explorar as capacidades de classificação de redes neurais com TensorFlow e Keras."
   ]
  },
  {
   "cell_type": "markdown",
   "id": "0da2833d-67fa-4313-a5ab-a15808fa4659",
   "metadata": {
    "id": "0da2833d-67fa-4313-a5ab-a15808fa4659"
   },
   "source": [
    "---\n",
    "## Dataset \"Predict students' dropout and academic success\"[1]\n",
    "\n",
    "O conjunto de dados escolhido, criado a partir de uma instituição de ensino superior (adquirido de várias bases de dados independentes), descreve estudantes matriculados em diferentes graduações, como agronomia, design, educação, enfermagem, jornalismo, gestão, serviço social e tecnologias. O conjunto de dados inclui informações conhecidas no momento da matrícula do estudante (trajetória acadêmica, demografia e fatores socioeconômicos) e o desempenho acadêmico dos alunos ao final do primeiro e segundo semestres. Os dados são usados para construir modelos de classificação para prever a evasão e o sucesso acadêmico."
   ]
  },
  {
   "cell_type": "markdown",
   "id": "BadL4Jqg3zTB",
   "metadata": {
    "id": "BadL4Jqg3zTB"
   },
   "source": [
    "---\n",
    "## O Problema\n",
    "\n",
    "O problema é formulado como uma tarefa de classificação binária indicando a conclusão ou desistência do curso, na qual existe um forte desequilíbrio em favor de uma das classes originais."
   ]
  },
  {
   "cell_type": "markdown",
   "id": "eada3d92-23bf-42bd-a994-6d1143a96b3a",
   "metadata": {
    "id": "eada3d92-23bf-42bd-a994-6d1143a96b3a"
   },
   "source": [
    "---\n",
    "## Explorando os Dados\n",
    "\n",
    "Inicialmente, começamos explorando os dados ao importar as bibliotecas `numpy` e `pandas`. Utilizamos o `pandas` para ler o arquivo 'data.csv', especificando o ponto e vírgula como delimitador.\n",
    "\n",
    "Após a leitura do arquivo, exibimos as primeiras cinco linhas do DataFrame `df` com a função `head()`. Esta visualização inicial nos fornece uma visão rápida de como os dados estão estruturados, incluindo nomes de colunas e tipos de dados, o que é crucial para o planejamento das etapas seguintes de análise.\n",
    "\n",
    "Em seguida, imprimimos a dimensão do DataFrame com `df.shape`, revelando o número total de linhas e colunas. Esta informação é fundamental para entender o volume e a complexidade dos dados com os quais estamos trabalhando, orientando as decisões sobre o processamento e a análise subsequente.\n",
    "\n",
    "Por vim, verificamos a presença de nulos ou valores ausentes, o que não é o caso deste nosso conjunto de dados."
   ]
  },
  {
   "cell_type": "code",
   "execution_count": 1,
   "id": "79e3740d-1a65-4b0b-ac17-e3cabf068431",
   "metadata": {
    "colab": {
     "base_uri": "https://localhost:8080/",
     "height": 638
    },
    "id": "79e3740d-1a65-4b0b-ac17-e3cabf068431",
    "is_executing": true,
    "outputId": "0284b88e-36ec-452f-8ad0-3dc5942b94fb"
   },
   "outputs": [
    {
     "name": "stdout",
     "output_type": "stream",
     "text": [
      "--2023-11-27 13:24:55--  https://drive.google.com/uc?export=download&id=1hnHg7IN3qTPnIui2XrkT5hUd9XFH8Ecn\n",
      "Resolving drive.google.com (drive.google.com)... 172.217.29.14, 2800:3f0:4001:803::200e\n",
      "Connecting to drive.google.com (drive.google.com)|172.217.29.14|:443... connected.\n",
      "HTTP request sent, awaiting response... 303 See Other\n",
      "Location: https://doc-00-9c-docs.googleusercontent.com/docs/securesc/ha0ro937gcuc7l7deffksulhg5h7mbp1/59noqvlnf066lch193p9ab43f6t66p1r/1701102000000/04037409333778562145/*/1hnHg7IN3qTPnIui2XrkT5hUd9XFH8Ecn?e=download&uuid=7264e9f6-8c1e-4b92-a7c7-f944f0c6fe7a [following]\n",
      "Warning: wildcards not supported in HTTP.\n",
      "--2023-11-27 13:24:55--  https://doc-00-9c-docs.googleusercontent.com/docs/securesc/ha0ro937gcuc7l7deffksulhg5h7mbp1/59noqvlnf066lch193p9ab43f6t66p1r/1701102000000/04037409333778562145/*/1hnHg7IN3qTPnIui2XrkT5hUd9XFH8Ecn?e=download&uuid=7264e9f6-8c1e-4b92-a7c7-f944f0c6fe7a\n",
      "Resolving doc-00-9c-docs.googleusercontent.com (doc-00-9c-docs.googleusercontent.com)... 172.217.28.1, 2800:3f0:4001:810::2001\n",
      "Connecting to doc-00-9c-docs.googleusercontent.com (doc-00-9c-docs.googleusercontent.com)|172.217.28.1|:443... connected.\n",
      "HTTP request sent, awaiting response... 200 OK\n",
      "Length: 533230 (521K) [text/csv]\n",
      "Saving to: ‘data.csv’\n",
      "\n",
      "data.csv            100%[===================>] 520.73K  1.13MB/s    in 0.4s    \n",
      "\n",
      "2023-11-27 13:24:57 (1.13 MB/s) - ‘data.csv’ saved [533230/533230]\n",
      "\n"
     ]
    },
    {
     "data": {
      "text/html": [
       "<div>\n",
       "<style scoped>\n",
       "    .dataframe tbody tr th:only-of-type {\n",
       "        vertical-align: middle;\n",
       "    }\n",
       "\n",
       "    .dataframe tbody tr th {\n",
       "        vertical-align: top;\n",
       "    }\n",
       "\n",
       "    .dataframe thead th {\n",
       "        text-align: right;\n",
       "    }\n",
       "</style>\n",
       "<table border=\"1\" class=\"dataframe\">\n",
       "  <thead>\n",
       "    <tr style=\"text-align: right;\">\n",
       "      <th></th>\n",
       "      <th>Marital status</th>\n",
       "      <th>Application mode</th>\n",
       "      <th>Application order</th>\n",
       "      <th>Course</th>\n",
       "      <th>Daytime/evening attendance\\t</th>\n",
       "      <th>Previous qualification</th>\n",
       "      <th>Previous qualification (grade)</th>\n",
       "      <th>Nacionality</th>\n",
       "      <th>Mother's qualification</th>\n",
       "      <th>Father's qualification</th>\n",
       "      <th>...</th>\n",
       "      <th>Curricular units 2nd sem (credited)</th>\n",
       "      <th>Curricular units 2nd sem (enrolled)</th>\n",
       "      <th>Curricular units 2nd sem (evaluations)</th>\n",
       "      <th>Curricular units 2nd sem (approved)</th>\n",
       "      <th>Curricular units 2nd sem (grade)</th>\n",
       "      <th>Curricular units 2nd sem (without evaluations)</th>\n",
       "      <th>Unemployment rate</th>\n",
       "      <th>Inflation rate</th>\n",
       "      <th>GDP</th>\n",
       "      <th>Target</th>\n",
       "    </tr>\n",
       "  </thead>\n",
       "  <tbody>\n",
       "    <tr>\n",
       "      <th>0</th>\n",
       "      <td>1</td>\n",
       "      <td>17</td>\n",
       "      <td>5</td>\n",
       "      <td>171</td>\n",
       "      <td>1</td>\n",
       "      <td>1</td>\n",
       "      <td>122.0</td>\n",
       "      <td>1</td>\n",
       "      <td>19</td>\n",
       "      <td>12</td>\n",
       "      <td>...</td>\n",
       "      <td>0</td>\n",
       "      <td>0</td>\n",
       "      <td>0</td>\n",
       "      <td>0</td>\n",
       "      <td>0.000000</td>\n",
       "      <td>0</td>\n",
       "      <td>10.8</td>\n",
       "      <td>1.4</td>\n",
       "      <td>1.74</td>\n",
       "      <td>Dropout</td>\n",
       "    </tr>\n",
       "    <tr>\n",
       "      <th>1</th>\n",
       "      <td>1</td>\n",
       "      <td>15</td>\n",
       "      <td>1</td>\n",
       "      <td>9254</td>\n",
       "      <td>1</td>\n",
       "      <td>1</td>\n",
       "      <td>160.0</td>\n",
       "      <td>1</td>\n",
       "      <td>1</td>\n",
       "      <td>3</td>\n",
       "      <td>...</td>\n",
       "      <td>0</td>\n",
       "      <td>6</td>\n",
       "      <td>6</td>\n",
       "      <td>6</td>\n",
       "      <td>13.666667</td>\n",
       "      <td>0</td>\n",
       "      <td>13.9</td>\n",
       "      <td>-0.3</td>\n",
       "      <td>0.79</td>\n",
       "      <td>Graduate</td>\n",
       "    </tr>\n",
       "    <tr>\n",
       "      <th>2</th>\n",
       "      <td>1</td>\n",
       "      <td>1</td>\n",
       "      <td>5</td>\n",
       "      <td>9070</td>\n",
       "      <td>1</td>\n",
       "      <td>1</td>\n",
       "      <td>122.0</td>\n",
       "      <td>1</td>\n",
       "      <td>37</td>\n",
       "      <td>37</td>\n",
       "      <td>...</td>\n",
       "      <td>0</td>\n",
       "      <td>6</td>\n",
       "      <td>0</td>\n",
       "      <td>0</td>\n",
       "      <td>0.000000</td>\n",
       "      <td>0</td>\n",
       "      <td>10.8</td>\n",
       "      <td>1.4</td>\n",
       "      <td>1.74</td>\n",
       "      <td>Dropout</td>\n",
       "    </tr>\n",
       "    <tr>\n",
       "      <th>3</th>\n",
       "      <td>1</td>\n",
       "      <td>17</td>\n",
       "      <td>2</td>\n",
       "      <td>9773</td>\n",
       "      <td>1</td>\n",
       "      <td>1</td>\n",
       "      <td>122.0</td>\n",
       "      <td>1</td>\n",
       "      <td>38</td>\n",
       "      <td>37</td>\n",
       "      <td>...</td>\n",
       "      <td>0</td>\n",
       "      <td>6</td>\n",
       "      <td>10</td>\n",
       "      <td>5</td>\n",
       "      <td>12.400000</td>\n",
       "      <td>0</td>\n",
       "      <td>9.4</td>\n",
       "      <td>-0.8</td>\n",
       "      <td>-3.12</td>\n",
       "      <td>Graduate</td>\n",
       "    </tr>\n",
       "    <tr>\n",
       "      <th>4</th>\n",
       "      <td>2</td>\n",
       "      <td>39</td>\n",
       "      <td>1</td>\n",
       "      <td>8014</td>\n",
       "      <td>0</td>\n",
       "      <td>1</td>\n",
       "      <td>100.0</td>\n",
       "      <td>1</td>\n",
       "      <td>37</td>\n",
       "      <td>38</td>\n",
       "      <td>...</td>\n",
       "      <td>0</td>\n",
       "      <td>6</td>\n",
       "      <td>6</td>\n",
       "      <td>6</td>\n",
       "      <td>13.000000</td>\n",
       "      <td>0</td>\n",
       "      <td>13.9</td>\n",
       "      <td>-0.3</td>\n",
       "      <td>0.79</td>\n",
       "      <td>Graduate</td>\n",
       "    </tr>\n",
       "  </tbody>\n",
       "</table>\n",
       "<p>5 rows × 37 columns</p>\n",
       "</div>"
      ],
      "text/plain": [
       "   Marital status  Application mode  Application order  Course  \\\n",
       "0               1                17                  5     171   \n",
       "1               1                15                  1    9254   \n",
       "2               1                 1                  5    9070   \n",
       "3               1                17                  2    9773   \n",
       "4               2                39                  1    8014   \n",
       "\n",
       "   Daytime/evening attendance\\t  Previous qualification  \\\n",
       "0                             1                       1   \n",
       "1                             1                       1   \n",
       "2                             1                       1   \n",
       "3                             1                       1   \n",
       "4                             0                       1   \n",
       "\n",
       "   Previous qualification (grade)  Nacionality  Mother's qualification  \\\n",
       "0                           122.0            1                      19   \n",
       "1                           160.0            1                       1   \n",
       "2                           122.0            1                      37   \n",
       "3                           122.0            1                      38   \n",
       "4                           100.0            1                      37   \n",
       "\n",
       "   Father's qualification  ...  Curricular units 2nd sem (credited)  \\\n",
       "0                      12  ...                                    0   \n",
       "1                       3  ...                                    0   \n",
       "2                      37  ...                                    0   \n",
       "3                      37  ...                                    0   \n",
       "4                      38  ...                                    0   \n",
       "\n",
       "   Curricular units 2nd sem (enrolled)  \\\n",
       "0                                    0   \n",
       "1                                    6   \n",
       "2                                    6   \n",
       "3                                    6   \n",
       "4                                    6   \n",
       "\n",
       "   Curricular units 2nd sem (evaluations)  \\\n",
       "0                                       0   \n",
       "1                                       6   \n",
       "2                                       0   \n",
       "3                                      10   \n",
       "4                                       6   \n",
       "\n",
       "   Curricular units 2nd sem (approved)  Curricular units 2nd sem (grade)  \\\n",
       "0                                    0                          0.000000   \n",
       "1                                    6                         13.666667   \n",
       "2                                    0                          0.000000   \n",
       "3                                    5                         12.400000   \n",
       "4                                    6                         13.000000   \n",
       "\n",
       "   Curricular units 2nd sem (without evaluations)  Unemployment rate  \\\n",
       "0                                               0               10.8   \n",
       "1                                               0               13.9   \n",
       "2                                               0               10.8   \n",
       "3                                               0                9.4   \n",
       "4                                               0               13.9   \n",
       "\n",
       "   Inflation rate   GDP    Target  \n",
       "0             1.4  1.74   Dropout  \n",
       "1            -0.3  0.79  Graduate  \n",
       "2             1.4  1.74   Dropout  \n",
       "3            -0.8 -3.12  Graduate  \n",
       "4            -0.3  0.79  Graduate  \n",
       "\n",
       "[5 rows x 37 columns]"
      ]
     },
     "metadata": {},
     "output_type": "display_data"
    },
    {
     "name": "stdout",
     "output_type": "stream",
     "text": [
      "(4424, 37)\n"
     ]
    }
   ],
   "source": [
    "import numpy as np\n",
    "import pandas as pd\n",
    "\n",
    "!wget -O data.csv 'https://drive.google.com/uc?export=download&id=1hnHg7IN3qTPnIui2XrkT5hUd9XFH8Ecn'\n",
    "\n",
    "df = pd.read_csv('data.csv', delimiter=';')\n",
    "\n",
    "display(df.head())\n",
    "\n",
    "print(df.shape)"
   ]
  },
  {
   "cell_type": "code",
   "execution_count": 2,
   "id": "HfjG__rJ3zTC",
   "metadata": {
    "colab": {
     "base_uri": "https://localhost:8080/"
    },
    "id": "HfjG__rJ3zTC",
    "outputId": "0d129b6d-7d1f-49d2-aeee-eec283f03cf3"
   },
   "outputs": [
    {
     "data": {
      "text/plain": [
       "Marital status                                    0\n",
       "Application mode                                  0\n",
       "Application order                                 0\n",
       "Course                                            0\n",
       "Daytime/evening attendance\\t                      0\n",
       "Previous qualification                            0\n",
       "Previous qualification (grade)                    0\n",
       "Nacionality                                       0\n",
       "Mother's qualification                            0\n",
       "Father's qualification                            0\n",
       "Mother's occupation                               0\n",
       "Father's occupation                               0\n",
       "Admission grade                                   0\n",
       "Displaced                                         0\n",
       "Educational special needs                         0\n",
       "Debtor                                            0\n",
       "Tuition fees up to date                           0\n",
       "Gender                                            0\n",
       "Scholarship holder                                0\n",
       "Age at enrollment                                 0\n",
       "International                                     0\n",
       "Curricular units 1st sem (credited)               0\n",
       "Curricular units 1st sem (enrolled)               0\n",
       "Curricular units 1st sem (evaluations)            0\n",
       "Curricular units 1st sem (approved)               0\n",
       "Curricular units 1st sem (grade)                  0\n",
       "Curricular units 1st sem (without evaluations)    0\n",
       "Curricular units 2nd sem (credited)               0\n",
       "Curricular units 2nd sem (enrolled)               0\n",
       "Curricular units 2nd sem (evaluations)            0\n",
       "Curricular units 2nd sem (approved)               0\n",
       "Curricular units 2nd sem (grade)                  0\n",
       "Curricular units 2nd sem (without evaluations)    0\n",
       "Unemployment rate                                 0\n",
       "Inflation rate                                    0\n",
       "GDP                                               0\n",
       "Target                                            0\n",
       "dtype: int64"
      ]
     },
     "execution_count": 2,
     "metadata": {},
     "output_type": "execute_result"
    }
   ],
   "source": [
    "df.isnull().sum()"
   ]
  },
  {
   "cell_type": "markdown",
   "id": "680aUQvI3zTC",
   "metadata": {
    "id": "680aUQvI3zTC"
   },
   "source": [
    "#### Avaliando a Distribuição da Coluna Alvo\n",
    "\n",
    "Prosseguindo com a exploração dos dados, focamos na coluna 'Target', que desempenha um papel crucial na nossa análise. Para entender melhor a distribuição dos valores nesta coluna, utilizamos o método `value_counts()` do Pandas. Este método nos retorna rapidamente um panorama da frequência de cada valor único na coluna 'Target'.\n",
    "\n",
    "Ao realizar esta operação, estamos buscando informações sobre a distribuição das classes ou categorias representadas na coluna 'Target'. Esta informação é vital, pois uma distribuição desigual das classes pode influenciar significativamente o desempenho do modelo.\n",
    "\n",
    "Assim, ao imprimir o resultado de `value_counts()`, estabelecemos uma base para compreender como os dados estão estruturados em relação à variável que pretendemos prever.\n",
    "\n",
    "Como esperado, há um forte desbalanceamento entre os valores."
   ]
  },
  {
   "cell_type": "code",
   "execution_count": 3,
   "id": "c58777ce-f459-430c-b656-4e2ac0d9d030",
   "metadata": {
    "colab": {
     "base_uri": "https://localhost:8080/"
    },
    "id": "c58777ce-f459-430c-b656-4e2ac0d9d030",
    "outputId": "1509ee00-1aaf-4e69-c2ca-b9c95bb155f8"
   },
   "outputs": [
    {
     "name": "stdout",
     "output_type": "stream",
     "text": [
      "Target\n",
      "Graduate    2209\n",
      "Dropout     1421\n",
      "Enrolled     794\n",
      "Name: count, dtype: int64\n"
     ]
    }
   ],
   "source": [
    "print(df['Target'].value_counts())"
   ]
  },
  {
   "cell_type": "markdown",
   "id": "1lcSdIYa3zTC",
   "metadata": {
    "id": "1lcSdIYa3zTC"
   },
   "source": [
    "---\n",
    "## Preparação dos Dados para Modelagem\n",
    "\n",
    "Com o objetivo de adaptar nosso conjunto de dados para um problema de classificação binária, fizemos ajustes focando nas categorias 'Graduate' e 'Dropout'. Criamos a nova coluna 'Dropout' no DataFrame, codificando 'Graduate' como 0 e 'Dropout' como 1, que será nossa variável dependente. Eliminamos a categoria 'Enrolled', o que também contribui para reduzir o desbalanceamento inicial das classes.\n",
    "\n",
    "Com a nova organização dos dados, removemos a coluna 'Target', pois ela já foi codificada em 'Dropout'. Em seguida, separamos o DataFrame em variáveis independentes `X` e a variável dependente `y`, que agora reflete com precisão o nosso problema binário de prever se um aluno irá se formar ou desistir."
   ]
  },
  {
   "cell_type": "code",
   "execution_count": 4,
   "id": "05fb3f01-3f5b-4991-8ec8-9c67ebefb9fd",
   "metadata": {
    "colab": {
     "base_uri": "https://localhost:8080/"
    },
    "id": "05fb3f01-3f5b-4991-8ec8-9c67ebefb9fd",
    "outputId": "680e780b-7577-47e6-96c0-d32552f3d3ea"
   },
   "outputs": [],
   "source": [
    "df = df[df['Target'].isin(['Graduate', 'Dropout'])]\n",
    "\n",
    "df['Dropout'] = [0 if typ == 'Graduate' else 1 for typ in df['Target']]\n",
    "\n",
    "df.drop('Target', axis=1, inplace=True)\n",
    "\n",
    "X = df.drop('Dropout', axis=1)\n",
    "\n",
    "y = df['Dropout']"
   ]
  },
  {
   "cell_type": "markdown",
   "id": "e75d3309-0cae-4836-82f4-b606bdfa3af2",
   "metadata": {
    "id": "e75d3309-0cae-4836-82f4-b606bdfa3af2"
   },
   "source": [
    "---\n",
    "## Separando os Dados em Treinamento e Teste\n",
    "\n",
    "Agora avançamos para  a divisão do conjunto de dados em partes para treinamento e teste. Ao definirmos o parâmetro `test_size` como 0.3, estamos especificando que 30% do conjunto de dados será reservado para teste e 70% para treinar o modelo, conforme solicitado.\n",
    "\n",
    "Após a aplicação da `train_test_split`, obtemos quatro conjuntos de dados: `X_train` e `y_train`, utilizados para treinamento, e `X_test` e `y_test`, que servirão para testar o modelo após o treinamento."
   ]
  },
  {
   "cell_type": "code",
   "execution_count": 5,
   "id": "d22e6f17-20fc-4cb5-abb7-d79e93980a9e",
   "metadata": {
    "id": "d22e6f17-20fc-4cb5-abb7-d79e93980a9e"
   },
   "outputs": [],
   "source": [
    "from sklearn.model_selection import train_test_split\n",
    "\n",
    "X_train, X_test, y_train, y_test = train_test_split(X, y, test_size=0.3, random_state=123, stratify=y)"
   ]
  },
  {
   "cell_type": "markdown",
   "id": "62d610e4-df4e-4b4c-902b-528582b2bb7a",
   "metadata": {
    "id": "62d610e4-df4e-4b4c-902b-528582b2bb7a"
   },
   "source": [
    "---\n",
    "## Normalizando os Dados\n",
    "\n",
    "Iniciamos este processo utilizando o método `describe()` do DataFrame, que fornece um resumo estatístico, como média, desvio padrão, valores mínimos e máximos. Esta visão permite identificar a necessidade de normalização."
   ]
  },
  {
   "cell_type": "code",
   "execution_count": 6,
   "id": "aea4e052-6da0-447a-b73e-4f52aa233078",
   "metadata": {
    "colab": {
     "base_uri": "https://localhost:8080/",
     "height": 402
    },
    "id": "aea4e052-6da0-447a-b73e-4f52aa233078",
    "outputId": "34eebf41-d110-49b0-8fcf-4e575907baf9"
   },
   "outputs": [
    {
     "data": {
      "text/html": [
       "<div>\n",
       "<style scoped>\n",
       "    .dataframe tbody tr th:only-of-type {\n",
       "        vertical-align: middle;\n",
       "    }\n",
       "\n",
       "    .dataframe tbody tr th {\n",
       "        vertical-align: top;\n",
       "    }\n",
       "\n",
       "    .dataframe thead th {\n",
       "        text-align: right;\n",
       "    }\n",
       "</style>\n",
       "<table border=\"1\" class=\"dataframe\">\n",
       "  <thead>\n",
       "    <tr style=\"text-align: right;\">\n",
       "      <th></th>\n",
       "      <th>Marital status</th>\n",
       "      <th>Application mode</th>\n",
       "      <th>Application order</th>\n",
       "      <th>Course</th>\n",
       "      <th>Daytime/evening attendance\\t</th>\n",
       "      <th>Previous qualification</th>\n",
       "      <th>Previous qualification (grade)</th>\n",
       "      <th>Nacionality</th>\n",
       "      <th>Mother's qualification</th>\n",
       "      <th>Father's qualification</th>\n",
       "      <th>...</th>\n",
       "      <th>Curricular units 2nd sem (credited)</th>\n",
       "      <th>Curricular units 2nd sem (enrolled)</th>\n",
       "      <th>Curricular units 2nd sem (evaluations)</th>\n",
       "      <th>Curricular units 2nd sem (approved)</th>\n",
       "      <th>Curricular units 2nd sem (grade)</th>\n",
       "      <th>Curricular units 2nd sem (without evaluations)</th>\n",
       "      <th>Unemployment rate</th>\n",
       "      <th>Inflation rate</th>\n",
       "      <th>GDP</th>\n",
       "      <th>Dropout</th>\n",
       "    </tr>\n",
       "  </thead>\n",
       "  <tbody>\n",
       "    <tr>\n",
       "      <th>count</th>\n",
       "      <td>3630.000000</td>\n",
       "      <td>3630.000000</td>\n",
       "      <td>3630.000000</td>\n",
       "      <td>3630.000000</td>\n",
       "      <td>3630.000000</td>\n",
       "      <td>3630.000000</td>\n",
       "      <td>3630.000000</td>\n",
       "      <td>3630.000000</td>\n",
       "      <td>3630.000000</td>\n",
       "      <td>3630.000000</td>\n",
       "      <td>...</td>\n",
       "      <td>3630.000000</td>\n",
       "      <td>3630.000000</td>\n",
       "      <td>3630.000000</td>\n",
       "      <td>3630.000000</td>\n",
       "      <td>3630.000000</td>\n",
       "      <td>3630.000000</td>\n",
       "      <td>3630.000000</td>\n",
       "      <td>3630.000000</td>\n",
       "      <td>3630.000000</td>\n",
       "      <td>3630.000000</td>\n",
       "    </tr>\n",
       "    <tr>\n",
       "      <th>mean</th>\n",
       "      <td>1.184298</td>\n",
       "      <td>18.421763</td>\n",
       "      <td>1.750138</td>\n",
       "      <td>8853.980992</td>\n",
       "      <td>0.887603</td>\n",
       "      <td>4.532231</td>\n",
       "      <td>132.920606</td>\n",
       "      <td>1.828099</td>\n",
       "      <td>19.986226</td>\n",
       "      <td>22.571625</td>\n",
       "      <td>...</td>\n",
       "      <td>0.581818</td>\n",
       "      <td>6.296419</td>\n",
       "      <td>7.763085</td>\n",
       "      <td>4.518457</td>\n",
       "      <td>10.036155</td>\n",
       "      <td>0.142149</td>\n",
       "      <td>11.630358</td>\n",
       "      <td>1.231598</td>\n",
       "      <td>-0.009256</td>\n",
       "      <td>0.391460</td>\n",
       "    </tr>\n",
       "    <tr>\n",
       "      <th>std</th>\n",
       "      <td>0.613009</td>\n",
       "      <td>17.358595</td>\n",
       "      <td>1.333831</td>\n",
       "      <td>2068.760082</td>\n",
       "      <td>0.315897</td>\n",
       "      <td>10.024134</td>\n",
       "      <td>13.238373</td>\n",
       "      <td>6.667614</td>\n",
       "      <td>15.585278</td>\n",
       "      <td>15.275453</td>\n",
       "      <td>...</td>\n",
       "      <td>2.022688</td>\n",
       "      <td>2.263020</td>\n",
       "      <td>3.964163</td>\n",
       "      <td>3.162376</td>\n",
       "      <td>5.481742</td>\n",
       "      <td>0.747670</td>\n",
       "      <td>2.667652</td>\n",
       "      <td>1.384911</td>\n",
       "      <td>2.259986</td>\n",
       "      <td>0.488144</td>\n",
       "    </tr>\n",
       "    <tr>\n",
       "      <th>min</th>\n",
       "      <td>1.000000</td>\n",
       "      <td>1.000000</td>\n",
       "      <td>0.000000</td>\n",
       "      <td>33.000000</td>\n",
       "      <td>0.000000</td>\n",
       "      <td>1.000000</td>\n",
       "      <td>95.000000</td>\n",
       "      <td>1.000000</td>\n",
       "      <td>1.000000</td>\n",
       "      <td>1.000000</td>\n",
       "      <td>...</td>\n",
       "      <td>0.000000</td>\n",
       "      <td>0.000000</td>\n",
       "      <td>0.000000</td>\n",
       "      <td>0.000000</td>\n",
       "      <td>0.000000</td>\n",
       "      <td>0.000000</td>\n",
       "      <td>7.600000</td>\n",
       "      <td>-0.800000</td>\n",
       "      <td>-4.060000</td>\n",
       "      <td>0.000000</td>\n",
       "    </tr>\n",
       "    <tr>\n",
       "      <th>25%</th>\n",
       "      <td>1.000000</td>\n",
       "      <td>1.000000</td>\n",
       "      <td>1.000000</td>\n",
       "      <td>9085.000000</td>\n",
       "      <td>1.000000</td>\n",
       "      <td>1.000000</td>\n",
       "      <td>125.000000</td>\n",
       "      <td>1.000000</td>\n",
       "      <td>2.000000</td>\n",
       "      <td>3.000000</td>\n",
       "      <td>...</td>\n",
       "      <td>0.000000</td>\n",
       "      <td>5.000000</td>\n",
       "      <td>6.000000</td>\n",
       "      <td>2.000000</td>\n",
       "      <td>10.517857</td>\n",
       "      <td>0.000000</td>\n",
       "      <td>9.400000</td>\n",
       "      <td>0.300000</td>\n",
       "      <td>-1.700000</td>\n",
       "      <td>0.000000</td>\n",
       "    </tr>\n",
       "    <tr>\n",
       "      <th>50%</th>\n",
       "      <td>1.000000</td>\n",
       "      <td>17.000000</td>\n",
       "      <td>1.000000</td>\n",
       "      <td>9254.000000</td>\n",
       "      <td>1.000000</td>\n",
       "      <td>1.000000</td>\n",
       "      <td>133.100000</td>\n",
       "      <td>1.000000</td>\n",
       "      <td>19.000000</td>\n",
       "      <td>19.000000</td>\n",
       "      <td>...</td>\n",
       "      <td>0.000000</td>\n",
       "      <td>6.000000</td>\n",
       "      <td>8.000000</td>\n",
       "      <td>5.000000</td>\n",
       "      <td>12.333333</td>\n",
       "      <td>0.000000</td>\n",
       "      <td>11.100000</td>\n",
       "      <td>1.400000</td>\n",
       "      <td>0.320000</td>\n",
       "      <td>0.000000</td>\n",
       "    </tr>\n",
       "    <tr>\n",
       "      <th>75%</th>\n",
       "      <td>1.000000</td>\n",
       "      <td>39.000000</td>\n",
       "      <td>2.000000</td>\n",
       "      <td>9556.000000</td>\n",
       "      <td>1.000000</td>\n",
       "      <td>1.000000</td>\n",
       "      <td>140.000000</td>\n",
       "      <td>1.000000</td>\n",
       "      <td>37.000000</td>\n",
       "      <td>37.000000</td>\n",
       "      <td>...</td>\n",
       "      <td>0.000000</td>\n",
       "      <td>7.000000</td>\n",
       "      <td>10.000000</td>\n",
       "      <td>6.000000</td>\n",
       "      <td>13.500000</td>\n",
       "      <td>0.000000</td>\n",
       "      <td>13.900000</td>\n",
       "      <td>2.600000</td>\n",
       "      <td>1.790000</td>\n",
       "      <td>1.000000</td>\n",
       "    </tr>\n",
       "    <tr>\n",
       "      <th>max</th>\n",
       "      <td>6.000000</td>\n",
       "      <td>57.000000</td>\n",
       "      <td>6.000000</td>\n",
       "      <td>9991.000000</td>\n",
       "      <td>1.000000</td>\n",
       "      <td>43.000000</td>\n",
       "      <td>190.000000</td>\n",
       "      <td>109.000000</td>\n",
       "      <td>44.000000</td>\n",
       "      <td>44.000000</td>\n",
       "      <td>...</td>\n",
       "      <td>19.000000</td>\n",
       "      <td>23.000000</td>\n",
       "      <td>33.000000</td>\n",
       "      <td>20.000000</td>\n",
       "      <td>18.571429</td>\n",
       "      <td>12.000000</td>\n",
       "      <td>16.200000</td>\n",
       "      <td>3.700000</td>\n",
       "      <td>3.510000</td>\n",
       "      <td>1.000000</td>\n",
       "    </tr>\n",
       "  </tbody>\n",
       "</table>\n",
       "<p>8 rows × 37 columns</p>\n",
       "</div>"
      ],
      "text/plain": [
       "       Marital status  Application mode  Application order       Course  \\\n",
       "count     3630.000000       3630.000000        3630.000000  3630.000000   \n",
       "mean         1.184298         18.421763           1.750138  8853.980992   \n",
       "std          0.613009         17.358595           1.333831  2068.760082   \n",
       "min          1.000000          1.000000           0.000000    33.000000   \n",
       "25%          1.000000          1.000000           1.000000  9085.000000   \n",
       "50%          1.000000         17.000000           1.000000  9254.000000   \n",
       "75%          1.000000         39.000000           2.000000  9556.000000   \n",
       "max          6.000000         57.000000           6.000000  9991.000000   \n",
       "\n",
       "       Daytime/evening attendance\\t  Previous qualification  \\\n",
       "count                   3630.000000             3630.000000   \n",
       "mean                       0.887603                4.532231   \n",
       "std                        0.315897               10.024134   \n",
       "min                        0.000000                1.000000   \n",
       "25%                        1.000000                1.000000   \n",
       "50%                        1.000000                1.000000   \n",
       "75%                        1.000000                1.000000   \n",
       "max                        1.000000               43.000000   \n",
       "\n",
       "       Previous qualification (grade)  Nacionality  Mother's qualification  \\\n",
       "count                     3630.000000  3630.000000             3630.000000   \n",
       "mean                       132.920606     1.828099               19.986226   \n",
       "std                         13.238373     6.667614               15.585278   \n",
       "min                         95.000000     1.000000                1.000000   \n",
       "25%                        125.000000     1.000000                2.000000   \n",
       "50%                        133.100000     1.000000               19.000000   \n",
       "75%                        140.000000     1.000000               37.000000   \n",
       "max                        190.000000   109.000000               44.000000   \n",
       "\n",
       "       Father's qualification  ...  Curricular units 2nd sem (credited)  \\\n",
       "count             3630.000000  ...                          3630.000000   \n",
       "mean                22.571625  ...                             0.581818   \n",
       "std                 15.275453  ...                             2.022688   \n",
       "min                  1.000000  ...                             0.000000   \n",
       "25%                  3.000000  ...                             0.000000   \n",
       "50%                 19.000000  ...                             0.000000   \n",
       "75%                 37.000000  ...                             0.000000   \n",
       "max                 44.000000  ...                            19.000000   \n",
       "\n",
       "       Curricular units 2nd sem (enrolled)  \\\n",
       "count                          3630.000000   \n",
       "mean                              6.296419   \n",
       "std                               2.263020   \n",
       "min                               0.000000   \n",
       "25%                               5.000000   \n",
       "50%                               6.000000   \n",
       "75%                               7.000000   \n",
       "max                              23.000000   \n",
       "\n",
       "       Curricular units 2nd sem (evaluations)  \\\n",
       "count                             3630.000000   \n",
       "mean                                 7.763085   \n",
       "std                                  3.964163   \n",
       "min                                  0.000000   \n",
       "25%                                  6.000000   \n",
       "50%                                  8.000000   \n",
       "75%                                 10.000000   \n",
       "max                                 33.000000   \n",
       "\n",
       "       Curricular units 2nd sem (approved)  Curricular units 2nd sem (grade)  \\\n",
       "count                          3630.000000                       3630.000000   \n",
       "mean                              4.518457                         10.036155   \n",
       "std                               3.162376                          5.481742   \n",
       "min                               0.000000                          0.000000   \n",
       "25%                               2.000000                         10.517857   \n",
       "50%                               5.000000                         12.333333   \n",
       "75%                               6.000000                         13.500000   \n",
       "max                              20.000000                         18.571429   \n",
       "\n",
       "       Curricular units 2nd sem (without evaluations)  Unemployment rate  \\\n",
       "count                                     3630.000000        3630.000000   \n",
       "mean                                         0.142149          11.630358   \n",
       "std                                          0.747670           2.667652   \n",
       "min                                          0.000000           7.600000   \n",
       "25%                                          0.000000           9.400000   \n",
       "50%                                          0.000000          11.100000   \n",
       "75%                                          0.000000          13.900000   \n",
       "max                                         12.000000          16.200000   \n",
       "\n",
       "       Inflation rate          GDP      Dropout  \n",
       "count     3630.000000  3630.000000  3630.000000  \n",
       "mean         1.231598    -0.009256     0.391460  \n",
       "std          1.384911     2.259986     0.488144  \n",
       "min         -0.800000    -4.060000     0.000000  \n",
       "25%          0.300000    -1.700000     0.000000  \n",
       "50%          1.400000     0.320000     0.000000  \n",
       "75%          2.600000     1.790000     1.000000  \n",
       "max          3.700000     3.510000     1.000000  \n",
       "\n",
       "[8 rows x 37 columns]"
      ]
     },
     "execution_count": 6,
     "metadata": {},
     "output_type": "execute_result"
    }
   ],
   "source": [
    "df.describe()"
   ]
  },
  {
   "cell_type": "markdown",
   "id": "66e45b10-fadd-4bd5-bad2-d422009f9e80",
   "metadata": {
    "id": "66e45b10-fadd-4bd5-bad2-d422009f9e80"
   },
   "source": [
    "---\n",
    "## Redução de Dimensionalidade e Pipeline de Pré-processamento\n",
    "\n",
    "Neste estágio, aprimoramos o pré-processamento de dados incorporando a Análise de Componentes Principais (PCA). Começamos inicialmente com a importação e configuração do PCA da biblioteca `sklearn.decomposition`, definindo-o para reter 80% da variância dos dados.\n",
    "\n",
    "No conjunto de treinamento (`X_train`), usamos o método `fit_transform` para ajustar o pipeline aos dados e, simultaneamente, transformá-los. O resultado dessa transformação é armazenado em `X_train`. Para o conjunto de teste (`X_test`), empregamos o método `transform` para aplicar as mesmas transformações com os parâmetros ajustados durante o treinamento. Isso resulta em `X_test`."
   ]
  },
  {
   "cell_type": "code",
   "execution_count": 7,
   "id": "808ce432-440b-43a4-ad61-709c7b9738aa",
   "metadata": {
    "id": "808ce432-440b-43a4-ad61-709c7b9738aa"
   },
   "outputs": [],
   "source": [
    "from sklearn.preprocessing import StandardScaler\n",
    "from sklearn.decomposition import PCA\n",
    "from sklearn.pipeline import make_pipeline\n",
    "\n",
    "scaler = StandardScaler()\n",
    "\n",
    "pca = PCA(n_components=0.8)\n",
    "\n",
    "pipeline = make_pipeline(scaler, pca)\n",
    "\n",
    "X_train = pipeline.fit_transform(X_train)\n",
    "\n",
    "X_test = pipeline.transform(X_test)"
   ]
  },
  {
   "cell_type": "markdown",
   "id": "59be7e39-b1f8-4c01-8261-16708722f02e",
   "metadata": {
    "id": "59be7e39-b1f8-4c01-8261-16708722f02e"
   },
   "source": [
    "---\n",
    "## Definindo o Modelo de Rede Neural\n",
    "\n",
    "Determinamos o número de características de entrada (`shape`) com base na forma do conjunto de dados de teste processado pelo PCA (`X_test`). Esse número guia a configuração da primeira camada da rede.\n",
    "\n",
    "O modelo é construído como uma sequência de camadas, cada uma com a função de ativação `relu`, exceto a última camada que utiliza `sigmoid`. A primeira camada recebe `shape` neurônios, correspondendo ao número de características de entrada. A segunda camada tem metade do número de neurônios da primeira, seguindo uma estrutura que gradualmente condensa a informação. A última camada, com um único neurônio e ativação `sigmoid`, é adequada para uma tarefa de classificação binária, produzindo uma saída entre 0 e 1.\n",
    "\n",
    "Após a definição do modelo, invocamos `model.summary()` para exibir um resumo da arquitetura da rede. Observamos que o modelo consiste em três camadas, com um total de 417 parâmetros."
   ]
  },
  {
   "cell_type": "code",
   "execution_count": 8,
   "id": "367069e9-1dfe-429e-862a-4992107d9d53",
   "metadata": {
    "colab": {
     "base_uri": "https://localhost:8080/"
    },
    "id": "367069e9-1dfe-429e-862a-4992107d9d53",
    "outputId": "06e1126e-afb4-4c30-f290-5c1263639a9e"
   },
   "outputs": [
    {
     "name": "stderr",
     "output_type": "stream",
     "text": [
      "2023-11-27 13:24:58.024524: E tensorflow/compiler/xla/stream_executor/cuda/cuda_dnn.cc:9342] Unable to register cuDNN factory: Attempting to register factory for plugin cuDNN when one has already been registered\n",
      "2023-11-27 13:24:58.024564: E tensorflow/compiler/xla/stream_executor/cuda/cuda_fft.cc:609] Unable to register cuFFT factory: Attempting to register factory for plugin cuFFT when one has already been registered\n",
      "2023-11-27 13:24:58.024584: E tensorflow/compiler/xla/stream_executor/cuda/cuda_blas.cc:1518] Unable to register cuBLAS factory: Attempting to register factory for plugin cuBLAS when one has already been registered\n",
      "2023-11-27 13:24:58.031248: I tensorflow/core/platform/cpu_feature_guard.cc:182] This TensorFlow binary is optimized to use available CPU instructions in performance-critical operations.\n",
      "To enable the following instructions: AVX2 FMA, in other operations, rebuild TensorFlow with the appropriate compiler flags.\n",
      "2023-11-27 13:24:59.023643: I tensorflow/compiler/xla/stream_executor/cuda/cuda_gpu_executor.cc:880] could not open file to read NUMA node: /sys/bus/pci/devices/0000:09:00.0/numa_node\n",
      "Your kernel may have been built without NUMA support.\n"
     ]
    },
    {
     "name": "stdout",
     "output_type": "stream",
     "text": [
      "Model: \"sequential\"\n",
      "_________________________________________________________________\n",
      " Layer (type)                Output Shape              Param #   \n",
      "=================================================================\n",
      " dense (Dense)               (None, 16)                272       \n",
      "                                                                 \n",
      " dense_1 (Dense)             (None, 8)                 136       \n",
      "                                                                 \n",
      " dense_2 (Dense)             (None, 1)                 9         \n",
      "                                                                 \n",
      "=================================================================\n",
      "Total params: 417 (1.63 KB)\n",
      "Trainable params: 417 (1.63 KB)\n",
      "Non-trainable params: 0 (0.00 Byte)\n",
      "_________________________________________________________________\n"
     ]
    },
    {
     "name": "stderr",
     "output_type": "stream",
     "text": [
      "2023-11-27 13:24:59.048133: I tensorflow/compiler/xla/stream_executor/cuda/cuda_gpu_executor.cc:880] could not open file to read NUMA node: /sys/bus/pci/devices/0000:09:00.0/numa_node\n",
      "Your kernel may have been built without NUMA support.\n",
      "2023-11-27 13:24:59.048179: I tensorflow/compiler/xla/stream_executor/cuda/cuda_gpu_executor.cc:880] could not open file to read NUMA node: /sys/bus/pci/devices/0000:09:00.0/numa_node\n",
      "Your kernel may have been built without NUMA support.\n",
      "2023-11-27 13:24:59.050179: I tensorflow/compiler/xla/stream_executor/cuda/cuda_gpu_executor.cc:880] could not open file to read NUMA node: /sys/bus/pci/devices/0000:09:00.0/numa_node\n",
      "Your kernel may have been built without NUMA support.\n",
      "2023-11-27 13:24:59.050219: I tensorflow/compiler/xla/stream_executor/cuda/cuda_gpu_executor.cc:880] could not open file to read NUMA node: /sys/bus/pci/devices/0000:09:00.0/numa_node\n",
      "Your kernel may have been built without NUMA support.\n",
      "2023-11-27 13:24:59.050247: I tensorflow/compiler/xla/stream_executor/cuda/cuda_gpu_executor.cc:880] could not open file to read NUMA node: /sys/bus/pci/devices/0000:09:00.0/numa_node\n",
      "Your kernel may have been built without NUMA support.\n",
      "2023-11-27 13:24:59.165275: I tensorflow/compiler/xla/stream_executor/cuda/cuda_gpu_executor.cc:880] could not open file to read NUMA node: /sys/bus/pci/devices/0000:09:00.0/numa_node\n",
      "Your kernel may have been built without NUMA support.\n",
      "2023-11-27 13:24:59.165328: I tensorflow/compiler/xla/stream_executor/cuda/cuda_gpu_executor.cc:880] could not open file to read NUMA node: /sys/bus/pci/devices/0000:09:00.0/numa_node\n",
      "Your kernel may have been built without NUMA support.\n",
      "2023-11-27 13:24:59.165335: I tensorflow/core/common_runtime/gpu/gpu_device.cc:1977] Could not identify NUMA node of platform GPU id 0, defaulting to 0.  Your kernel may not have been built with NUMA support.\n",
      "2023-11-27 13:24:59.165371: I tensorflow/compiler/xla/stream_executor/cuda/cuda_gpu_executor.cc:880] could not open file to read NUMA node: /sys/bus/pci/devices/0000:09:00.0/numa_node\n",
      "Your kernel may have been built without NUMA support.\n",
      "2023-11-27 13:24:59.165387: I tensorflow/core/common_runtime/gpu/gpu_device.cc:1886] Created device /job:localhost/replica:0/task:0/device:GPU:0 with 21472 MB memory:  -> device: 0, name: NVIDIA GeForce RTX 4090, pci bus id: 0000:09:00.0, compute capability: 8.9\n"
     ]
    }
   ],
   "source": [
    "from tensorflow import keras\n",
    "from keras import layers\n",
    "import tensorflow as tf\n",
    "\n",
    "shape = X_test.shape[1]\n",
    "\n",
    "model = keras.Sequential([\n",
    "    layers.Dense(shape, activation='relu', input_shape=[shape]),\n",
    "    layers.Dense(shape / 2, activation='relu'),\n",
    "    layers.Dense(1, activation='sigmoid'),\n",
    "])\n",
    "\n",
    "model.summary()"
   ]
  },
  {
   "cell_type": "markdown",
   "id": "71e95c9c-8aa4-432d-ad5f-4ee853d3e07b",
   "metadata": {
    "id": "71e95c9c-8aa4-432d-ad5f-4ee853d3e07b"
   },
   "source": [
    "---\n",
    "## Compilando o Modelo de Rede Neural\n",
    "\n",
    "Escolhemos 'binary_crossentropy' como a função de perda e definimos 'binary_accuracy' como a métrica para avaliar o modelo."
   ]
  },
  {
   "cell_type": "code",
   "execution_count": 9,
   "id": "bec2ac34-9030-4aa2-8e75-21d36262dd02",
   "metadata": {
    "id": "bec2ac34-9030-4aa2-8e75-21d36262dd02"
   },
   "outputs": [],
   "source": [
    "model.compile(\n",
    "    loss='binary_crossentropy',\n",
    "    metrics=['binary_accuracy'],\n",
    ")"
   ]
  },
  {
   "cell_type": "markdown",
   "id": "56d03a1e-ce56-4ce2-83b4-8c26d5a5ff49",
   "metadata": {
    "id": "56d03a1e-ce56-4ce2-83b4-8c26d5a5ff49"
   },
   "source": [
    "---\n",
    "## Treinamento do Modelo com Early Stopping\n",
    "\n",
    "Utilizamos a técnica de early stopping para melhorar a eficiência e prevenir o overfitting.\n",
    "\n",
    "Configuramos este callback para iniciar a avaliação da necessidade de parada após 10 épocas (`start_from_epoch=10`), com uma paciência de 10 épocas adicionais (`patience=10`). O parâmetro `restore_best_weights=True` garante que o modelo retorne aos pesos da época em que teve o melhor desempenho após a parada do treinamento.\n",
    "\n",
    "Passamos `X_train` e `y_train` como os dados de treinamento, com um `batch_size` de 32. Utilizamos uma divisão de validação de 30% (`validation_split=0.3`) para avaliar o desempenho do modelo. O modelo é treinado para um máximo de 100 épocas (`epochs=100`), mas com a parada antecipada, podemos observar que o treinamento terminou antes deste limite.\n",
    "\n",
    "Ao final do treinamento, o histórico é armazenado em `history`. Este histórico contém informações valiosas sobre a evolução da função de perda e das métricas de avaliação ao longo das épocas, permitindo a análise posterior do desempenho do modelo."
   ]
  },
  {
   "cell_type": "code",
   "execution_count": 10,
   "id": "fc21d31d-6464-469d-ac40-fde9522eed69",
   "metadata": {
    "colab": {
     "base_uri": "https://localhost:8080/"
    },
    "id": "fc21d31d-6464-469d-ac40-fde9522eed69",
    "outputId": "747eb9cc-853d-4e7b-a48b-97a9eb8302ca"
   },
   "outputs": [
    {
     "name": "stdout",
     "output_type": "stream",
     "text": [
      "Epoch 1/100\n"
     ]
    },
    {
     "name": "stderr",
     "output_type": "stream",
     "text": [
      "2023-11-27 13:25:00.082717: I tensorflow/tsl/platform/default/subprocess.cc:304] Start cannot spawn child process: No such file or directory\n"
     ]
    },
    {
     "name": "stdout",
     "output_type": "stream",
     "text": [
      " 1/56 [..............................] - ETA: 42s - loss: 1.0231 - binary_accuracy: 0.2812"
     ]
    },
    {
     "name": "stderr",
     "output_type": "stream",
     "text": [
      "2023-11-27 13:25:00.335332: I tensorflow/compiler/xla/service/service.cc:168] XLA service 0x7fed305de550 initialized for platform CUDA (this does not guarantee that XLA will be used). Devices:\n",
      "2023-11-27 13:25:00.335358: I tensorflow/compiler/xla/service/service.cc:176]   StreamExecutor device (0): NVIDIA GeForce RTX 4090, Compute Capability 8.9\n",
      "2023-11-27 13:25:00.337881: I tensorflow/compiler/mlir/tensorflow/utils/dump_mlir_util.cc:269] disabling MLIR crash reproducer, set env var `MLIR_CRASH_REPRODUCER_DIRECTORY` to enable.\n",
      "2023-11-27 13:25:00.354909: I tensorflow/compiler/xla/stream_executor/cuda/cuda_dnn.cc:442] Loaded cuDNN version 8902\n",
      "2023-11-27 13:25:00.383891: I ./tensorflow/compiler/jit/device_compiler.h:186] Compiled cluster using XLA!  This line is logged at most once for the lifetime of the process.\n"
     ]
    },
    {
     "name": "stdout",
     "output_type": "stream",
     "text": [
      "56/56 [==============================] - 1s 6ms/step - loss: 0.7508 - binary_accuracy: 0.4483 - val_loss: 0.6618 - val_binary_accuracy: 0.6173\n",
      "Epoch 2/100\n",
      "56/56 [==============================] - 0s 5ms/step - loss: 0.6003 - binary_accuracy: 0.7222 - val_loss: 0.5613 - val_binary_accuracy: 0.7720\n",
      "Epoch 3/100\n",
      "56/56 [==============================] - 0s 5ms/step - loss: 0.5039 - binary_accuracy: 0.8082 - val_loss: 0.4847 - val_binary_accuracy: 0.8047\n",
      "Epoch 4/100\n",
      "56/56 [==============================] - 0s 4ms/step - loss: 0.4278 - binary_accuracy: 0.8375 - val_loss: 0.4267 - val_binary_accuracy: 0.8191\n",
      "Epoch 5/100\n",
      "56/56 [==============================] - 0s 5ms/step - loss: 0.3753 - binary_accuracy: 0.8566 - val_loss: 0.3898 - val_binary_accuracy: 0.8362\n",
      "Epoch 6/100\n",
      "56/56 [==============================] - 0s 5ms/step - loss: 0.3420 - binary_accuracy: 0.8673 - val_loss: 0.3646 - val_binary_accuracy: 0.8401\n",
      "Epoch 7/100\n",
      "56/56 [==============================] - 0s 5ms/step - loss: 0.3204 - binary_accuracy: 0.8757 - val_loss: 0.3528 - val_binary_accuracy: 0.8401\n",
      "Epoch 8/100\n",
      "56/56 [==============================] - 0s 5ms/step - loss: 0.3065 - binary_accuracy: 0.8853 - val_loss: 0.3427 - val_binary_accuracy: 0.8427\n",
      "Epoch 9/100\n",
      "56/56 [==============================] - 0s 5ms/step - loss: 0.2979 - binary_accuracy: 0.8830 - val_loss: 0.3378 - val_binary_accuracy: 0.8427\n",
      "Epoch 10/100\n",
      "56/56 [==============================] - 0s 5ms/step - loss: 0.2917 - binary_accuracy: 0.8870 - val_loss: 0.3359 - val_binary_accuracy: 0.8506\n",
      "Epoch 11/100\n",
      "56/56 [==============================] - 0s 5ms/step - loss: 0.2877 - binary_accuracy: 0.8881 - val_loss: 0.3344 - val_binary_accuracy: 0.8532\n",
      "Epoch 12/100\n",
      "56/56 [==============================] - 0s 5ms/step - loss: 0.2836 - binary_accuracy: 0.8903 - val_loss: 0.3318 - val_binary_accuracy: 0.8506\n",
      "Epoch 13/100\n",
      "56/56 [==============================] - 0s 5ms/step - loss: 0.2800 - binary_accuracy: 0.8892 - val_loss: 0.3293 - val_binary_accuracy: 0.8467\n",
      "Epoch 14/100\n",
      "56/56 [==============================] - 0s 4ms/step - loss: 0.2766 - binary_accuracy: 0.8937 - val_loss: 0.3323 - val_binary_accuracy: 0.8519\n",
      "Epoch 15/100\n",
      "56/56 [==============================] - 0s 4ms/step - loss: 0.2752 - binary_accuracy: 0.8892 - val_loss: 0.3276 - val_binary_accuracy: 0.8493\n",
      "Epoch 16/100\n",
      "56/56 [==============================] - 0s 4ms/step - loss: 0.2727 - binary_accuracy: 0.8937 - val_loss: 0.3275 - val_binary_accuracy: 0.8480\n",
      "Epoch 17/100\n",
      "56/56 [==============================] - 0s 5ms/step - loss: 0.2708 - binary_accuracy: 0.8948 - val_loss: 0.3263 - val_binary_accuracy: 0.8480\n",
      "Epoch 18/100\n",
      "56/56 [==============================] - 0s 5ms/step - loss: 0.2691 - binary_accuracy: 0.8948 - val_loss: 0.3255 - val_binary_accuracy: 0.8467\n",
      "Epoch 19/100\n",
      "56/56 [==============================] - 0s 5ms/step - loss: 0.2672 - binary_accuracy: 0.8943 - val_loss: 0.3274 - val_binary_accuracy: 0.8519\n",
      "Epoch 20/100\n",
      "56/56 [==============================] - 0s 5ms/step - loss: 0.2658 - binary_accuracy: 0.8988 - val_loss: 0.3277 - val_binary_accuracy: 0.8493\n",
      "Epoch 21/100\n",
      "56/56 [==============================] - 0s 5ms/step - loss: 0.2645 - binary_accuracy: 0.8993 - val_loss: 0.3248 - val_binary_accuracy: 0.8506\n",
      "Epoch 22/100\n",
      "56/56 [==============================] - 0s 5ms/step - loss: 0.2632 - binary_accuracy: 0.8988 - val_loss: 0.3262 - val_binary_accuracy: 0.8519\n",
      "Epoch 23/100\n",
      "56/56 [==============================] - 0s 5ms/step - loss: 0.2617 - binary_accuracy: 0.9010 - val_loss: 0.3246 - val_binary_accuracy: 0.8532\n",
      "Epoch 24/100\n",
      "56/56 [==============================] - 0s 5ms/step - loss: 0.2601 - binary_accuracy: 0.9016 - val_loss: 0.3251 - val_binary_accuracy: 0.8493\n",
      "Epoch 25/100\n",
      "56/56 [==============================] - 0s 5ms/step - loss: 0.2591 - binary_accuracy: 0.9016 - val_loss: 0.3249 - val_binary_accuracy: 0.8480\n",
      "Epoch 26/100\n",
      "56/56 [==============================] - 0s 5ms/step - loss: 0.2577 - binary_accuracy: 0.9016 - val_loss: 0.3239 - val_binary_accuracy: 0.8545\n",
      "Epoch 27/100\n",
      "56/56 [==============================] - 0s 5ms/step - loss: 0.2564 - binary_accuracy: 0.9010 - val_loss: 0.3237 - val_binary_accuracy: 0.8545\n",
      "Epoch 28/100\n",
      "56/56 [==============================] - 0s 5ms/step - loss: 0.2556 - binary_accuracy: 0.9038 - val_loss: 0.3241 - val_binary_accuracy: 0.8519\n",
      "Epoch 29/100\n",
      "56/56 [==============================] - 0s 5ms/step - loss: 0.2542 - binary_accuracy: 0.9033 - val_loss: 0.3239 - val_binary_accuracy: 0.8532\n",
      "Epoch 30/100\n",
      "56/56 [==============================] - 0s 5ms/step - loss: 0.2528 - binary_accuracy: 0.9061 - val_loss: 0.3242 - val_binary_accuracy: 0.8558\n",
      "Epoch 31/100\n",
      "56/56 [==============================] - 0s 5ms/step - loss: 0.2517 - binary_accuracy: 0.9027 - val_loss: 0.3242 - val_binary_accuracy: 0.8532\n",
      "Epoch 32/100\n",
      "56/56 [==============================] - 0s 5ms/step - loss: 0.2508 - binary_accuracy: 0.9083 - val_loss: 0.3254 - val_binary_accuracy: 0.8519\n",
      "Epoch 33/100\n",
      "56/56 [==============================] - 0s 5ms/step - loss: 0.2501 - binary_accuracy: 0.9038 - val_loss: 0.3256 - val_binary_accuracy: 0.8558\n",
      "Epoch 34/100\n",
      "56/56 [==============================] - 0s 5ms/step - loss: 0.2487 - binary_accuracy: 0.9083 - val_loss: 0.3280 - val_binary_accuracy: 0.8598\n",
      "Epoch 35/100\n",
      "56/56 [==============================] - 0s 5ms/step - loss: 0.2486 - binary_accuracy: 0.9044 - val_loss: 0.3273 - val_binary_accuracy: 0.8558\n",
      "Epoch 36/100\n",
      "56/56 [==============================] - 0s 5ms/step - loss: 0.2475 - binary_accuracy: 0.9066 - val_loss: 0.3271 - val_binary_accuracy: 0.8532\n",
      "Epoch 37/100\n",
      "56/56 [==============================] - 0s 5ms/step - loss: 0.2468 - binary_accuracy: 0.9083 - val_loss: 0.3261 - val_binary_accuracy: 0.8532\n"
     ]
    }
   ],
   "source": [
    "from tensorflow import keras\n",
    "\n",
    "early_stopping = keras.callbacks.EarlyStopping(\n",
    "    start_from_epoch=10,\n",
    "    patience=10,\n",
    "    min_delta=0.001,\n",
    "    restore_best_weights=True,\n",
    ")\n",
    "\n",
    "history = model.fit(\n",
    "    X_train,\n",
    "    y_train,\n",
    "    batch_size=32,\n",
    "    validation_split=0.3,\n",
    "    epochs=100,\n",
    "    callbacks=[early_stopping],\n",
    "    verbose=1,\n",
    ")"
   ]
  },
  {
   "cell_type": "markdown",
   "id": "7bd9b7cc-4f7d-44f3-80c1-f90b39fada35",
   "metadata": {
    "id": "7bd9b7cc-4f7d-44f3-80c1-f90b39fada35"
   },
   "source": [
    "---\n",
    "## Curva de Aprendizado e Avaliação do Desempenho do Modelo\n",
    "\n",
    "Depois o treinamento, transformamos o histórico m um DataFrame para análise.\n",
    "\n",
    "Os gráficos apresentam a evolução da perda e da acurácia ao longo das épocas. Observamos que a perda no conjunto de validação diminui de forma consistente ao longo do tempo, o que indica que o modelo está aprendendo efetivamente e melhorando a sua capacidade de generalização. Além disso, a acurácia binária no conjunto de validação aumenta e parece estabilizar, sugerindo que o modelo não está apenas memorizando os dados de treinamento, mas também se tornando eficaz em prever resultados em dados não vistos."
   ]
  },
  {
   "cell_type": "code",
   "execution_count": 11,
   "id": "c9528848-2aae-46cd-be41-10f320a1d7c4",
   "metadata": {
    "colab": {
     "base_uri": "https://localhost:8080/",
     "height": 1000
    },
    "id": "c9528848-2aae-46cd-be41-10f320a1d7c4",
    "outputId": "c204f241-50db-457b-c695-6652d8498672"
   },
   "outputs": [
    {
     "data": {
      "text/html": [
       "<div>\n",
       "<style scoped>\n",
       "    .dataframe tbody tr th:only-of-type {\n",
       "        vertical-align: middle;\n",
       "    }\n",
       "\n",
       "    .dataframe tbody tr th {\n",
       "        vertical-align: top;\n",
       "    }\n",
       "\n",
       "    .dataframe thead th {\n",
       "        text-align: right;\n",
       "    }\n",
       "</style>\n",
       "<table border=\"1\" class=\"dataframe\">\n",
       "  <thead>\n",
       "    <tr style=\"text-align: right;\">\n",
       "      <th></th>\n",
       "      <th>loss</th>\n",
       "      <th>binary_accuracy</th>\n",
       "      <th>val_loss</th>\n",
       "      <th>val_binary_accuracy</th>\n",
       "    </tr>\n",
       "  </thead>\n",
       "  <tbody>\n",
       "    <tr>\n",
       "      <th>0</th>\n",
       "      <td>0.750780</td>\n",
       "      <td>0.448256</td>\n",
       "      <td>0.661768</td>\n",
       "      <td>0.617300</td>\n",
       "    </tr>\n",
       "    <tr>\n",
       "      <th>1</th>\n",
       "      <td>0.600325</td>\n",
       "      <td>0.722160</td>\n",
       "      <td>0.561254</td>\n",
       "      <td>0.771953</td>\n",
       "    </tr>\n",
       "    <tr>\n",
       "      <th>2</th>\n",
       "      <td>0.503899</td>\n",
       "      <td>0.808211</td>\n",
       "      <td>0.484711</td>\n",
       "      <td>0.804718</td>\n",
       "    </tr>\n",
       "    <tr>\n",
       "      <th>3</th>\n",
       "      <td>0.427835</td>\n",
       "      <td>0.837458</td>\n",
       "      <td>0.426743</td>\n",
       "      <td>0.819135</td>\n",
       "    </tr>\n",
       "    <tr>\n",
       "      <th>4</th>\n",
       "      <td>0.375341</td>\n",
       "      <td>0.856580</td>\n",
       "      <td>0.389839</td>\n",
       "      <td>0.836173</td>\n",
       "    </tr>\n",
       "  </tbody>\n",
       "</table>\n",
       "</div>"
      ],
      "text/plain": [
       "       loss  binary_accuracy  val_loss  val_binary_accuracy\n",
       "0  0.750780         0.448256  0.661768             0.617300\n",
       "1  0.600325         0.722160  0.561254             0.771953\n",
       "2  0.503899         0.808211  0.484711             0.804718\n",
       "3  0.427835         0.837458  0.426743             0.819135\n",
       "4  0.375341         0.856580  0.389839             0.836173"
      ]
     },
     "metadata": {},
     "output_type": "display_data"
    },
    {
     "name": "stdout",
     "output_type": "stream",
     "text": [
      "Best Validation Loss: 0.3237\n",
      "Best Validation Accuracy: 0.8598\n"
     ]
    },
    {
     "data": {
      "image/png": "[encoded data removed]",
      "text/plain": [
       "<Figure size 640x480 with 1 Axes>"
      ]
     },
     "metadata": {},
     "output_type": "display_data"
    },
    {
     "data": {
      "image/png": "[encoded data removed]",
      "text/plain": [
       "<Figure size 640x480 with 1 Axes>"
      ]
     },
     "metadata": {},
     "output_type": "display_data"
    }
   ],
   "source": [
    "def plot_history(history):\n",
    "  history_df = pd.DataFrame(history.history)\n",
    "  display(history_df.head())\n",
    "  # Start the plot at epoch 0\n",
    "  history_df.loc[0:, ['loss', 'val_loss']].plot()\n",
    "  history_df.loc[0:, ['binary_accuracy', 'val_binary_accuracy']].plot()\n",
    "\n",
    "  print((\"Best Validation Loss: {:0.4f}\" +\\\n",
    "    \"\\nBest Validation Accuracy: {:0.4f}\")\\\n",
    "    .format(history_df['val_loss'].min(),\n",
    "            history_df['val_binary_accuracy'].max()))\n",
    "  \n",
    "plot_history(history)"
   ]
  },
  {
   "cell_type": "markdown",
   "id": "d5af5783-ee8b-4e5a-af3a-eafbc5f6a3e8",
   "metadata": {
    "id": "d5af5783-ee8b-4e5a-af3a-eafbc5f6a3e8"
   },
   "source": [
    "---\n",
    "## Avaliação Final do Modelo\n",
    "\n",
    "Concluído o treinamento do modelo de rede neural, procedemos à sua avaliação usando o conjunto de teste transformado pela PCA (`X_test`). A predição do modelo é feita através do método `predict`, e um threshold de 0.5 é aplicado para determinar a classificação binária: valores iguais ou acima de 0.5 são considerados classe 1 (Dropout) e abaixo são classe 0 (Graduate).\n",
    "\n",
    "A matriz de confusão revelada indica que o modelo teve um desempenho razoavelmente bom ao identificar as duas classes, com um número maior de verdadeiros positivos e verdadeiros negativos do que de falsos positivos e falsos negativos.\n",
    "\n",
    "Em seguida, apresentamos o relatório de classificação, que oferece uma visão detalhada do desempenho do modelo, incluindo métricas como precisão, recall e pontuação f1 para cada classe. O relatório mostra que o modelo tem uma precisão e um recall balanceados para ambas as classes, resultando em uma boa pontuação f1.\n",
    "\n",
    "Por último, calculamos a acurácia geral do modelo, que nos informa a proporção de previsões corretas sobre o total de previsões. Com uma acurácia de aproximadamente 88%, podemos concluir que o modelo é bastante eficaz."
   ]
  },
  {
   "cell_type": "markdown",
   "metadata": {},
   "source": []
  },
  {
   "cell_type": "code",
   "execution_count": 12,
   "id": "e83fe76f-07bd-42cd-ab9c-21498da2e2e0",
   "metadata": {
    "colab": {
     "base_uri": "https://localhost:8080/"
    },
    "id": "e83fe76f-07bd-42cd-ab9c-21498da2e2e0",
    "outputId": "af2d956c-2140-4f82-a8a3-507ca42a594f"
   },
   "outputs": [
    {
     "name": "stdout",
     "output_type": "stream",
     "text": [
      "35/35 [==============================] - 0s 1ms/step\n",
      "Matriz de Confusão: \n",
      " [[631  32]\n",
      " [ 79 347]]\n",
      "              precision    recall  f1-score   support\n",
      "\n",
      "           0       0.89      0.95      0.92       663\n",
      "           1       0.92      0.81      0.86       426\n",
      "\n",
      "    accuracy                           0.90      1089\n",
      "   macro avg       0.90      0.88      0.89      1089\n",
      "weighted avg       0.90      0.90      0.90      1089\n",
      "\n",
      "Acuracidade:  0.8980716253443526\n"
     ]
    }
   ],
   "source": [
    "from sklearn.metrics import confusion_matrix, classification_report, accuracy_score\n",
    "\n",
    "y_pred = model.predict(X_test) >= 0.5\n",
    "\n",
    "print('Matriz de Confusão: \\n' , confusion_matrix(y_test, y_pred))\n",
    "\n",
    "print(classification_report(y_test, y_pred))\n",
    "\n",
    "print('Acuracidade: ' , accuracy_score(y_test, y_pred))"
   ]
  },
  {
   "cell_type": "markdown",
   "metadata": {},
   "source": [
    "## Keras Tuner"
   ]
  },
  {
   "cell_type": "code",
   "execution_count": 13,
   "metadata": {},
   "outputs": [],
   "source": [
    "#!pip install -q -U keras-tuner"
   ]
  },
  {
   "cell_type": "code",
   "execution_count": 14,
   "metadata": {},
   "outputs": [
    {
     "name": "stderr",
     "output_type": "stream",
     "text": [
      "/tmp/ipykernel_293396/1654478174.py:1: DeprecationWarning: `import kerastuner` is deprecated, please use `import keras_tuner`.\n",
      "  import kerastuner as kt\n"
     ]
    }
   ],
   "source": [
    "import kerastuner as kt"
   ]
  },
  {
   "cell_type": "code",
   "execution_count": 15,
   "metadata": {},
   "outputs": [],
   "source": [
    "from keras.layers import Dropout\n",
    "\n",
    "def model_builder(hp):\n",
    "\n",
    "  # Tune the number of units in the first Dense layer\n",
    "  # Choose an optimal value between 8-128\n",
    "  hp_units_1 = hp.Int('hp_units_1', min_value=4, max_value=128, step=4)\n",
    "  model = keras.Sequential(layers.Dense(units=hp_units_1, activation='relu', input_shape=[X_train.shape[1]]))\n",
    "\n",
    "  # Tune the number of hidden layers 2-10 and units per layer\n",
    "  for i in range(hp.Int('num_layers', 2, 6)):\n",
    "   \n",
    "    model.add(Dropout(0.20))\n",
    "    model.add(layers.Dense(units=hp.Int('hp_units_' + str(i),\n",
    "                                            min_value=4,\n",
    "                                            max_value=256,\n",
    "                                            step=4),\n",
    "                               activation='relu'))\n",
    "\n",
    "  model.add(layers.Dense(1, activation='sigmoid'))\n",
    "\n",
    "  # Tune the learning rate for the optimizer\n",
    "  # Choose an optimal value from 0.01, 0.001, or 0.0001\n",
    "  hp_learning_rate = hp.Choice('learning_rate', values=[1e-2, 1e-3, 1e-4])\n",
    "  \n",
    "  model.compile(keras.optimizers.Adam(learning_rate=hp_learning_rate), \n",
    "                loss='binary_crossentropy', \n",
    "                metrics=['binary_accuracy'])\n",
    "\n",
    "  return model"
   ]
  },
  {
   "cell_type": "markdown",
   "metadata": {},
   "source": [
    "## Tunning"
   ]
  },
  {
   "cell_type": "code",
   "execution_count": 16,
   "metadata": {},
   "outputs": [
    {
     "name": "stdout",
     "output_type": "stream",
     "text": [
      "Reloading Tuner from mydir/mackenzie_dl_course/tuner0.json\n"
     ]
    }
   ],
   "source": [
    "hyperband = kt.Hyperband(model_builder, \n",
    "                         objective='val_binary_accuracy', \n",
    "                         max_epochs=50, \n",
    "                         factor=3, \n",
    "                         directory='mydir', \n",
    "                         project_name='mackenzie_dl_course')"
   ]
  },
  {
   "cell_type": "code",
   "execution_count": 17,
   "metadata": {},
   "outputs": [],
   "source": [
    "hyperband_early_stopping = tf.keras.callbacks.EarlyStopping(monitor='val_loss', patience=5)"
   ]
  },
  {
   "cell_type": "code",
   "execution_count": 18,
   "metadata": {},
   "outputs": [],
   "source": [
    "hyperband.search(X_train, \n",
    "                 y_train, \n",
    "                 batch_size=64, \n",
    "                 epochs=50, \n",
    "                 validation_split=0.2, \n",
    "                 callbacks=[hyperband_early_stopping])\n",
    "\n",
    "# Get the optimal hyperparameters\n",
    "best_hps = hyperband.get_best_hyperparameters(num_trials=1)[0]"
   ]
  },
  {
   "cell_type": "code",
   "execution_count": 19,
   "metadata": {},
   "outputs": [
    {
     "name": "stdout",
     "output_type": "stream",
     "text": [
      "\n",
      "The hyperparameter search is complete.\n",
      "\n",
      "The optimal learning rate for the optimizer is 0.01.\n",
      "\n",
      "Best layers units: \n",
      "\n",
      "Layer:  1  ,  80  units\n",
      "Layer:  2  ,  252  units\n",
      "Layer:  3  ,  256  units\n",
      "Layer:  4  ,  4  units\n"
     ]
    }
   ],
   "source": [
    "print(f\"\"\"\n",
    "The hyperparameter search is complete.\n",
    "\n",
    "The optimal learning rate for the optimizer is {best_hps.get('learning_rate')}.\n",
    "\"\"\")\n",
    "\n",
    "print('Best layers units: \\n')\n",
    "for i in range(2,6):\n",
    "  print('Layer: ', i-1, ' , ', best_hps.get('hp_units_' + str(i)), ' units')"
   ]
  },
  {
   "cell_type": "code",
   "execution_count": 20,
   "metadata": {},
   "outputs": [
    {
     "name": "stdout",
     "output_type": "stream",
     "text": [
      "Best epoch: 42\n"
     ]
    }
   ],
   "source": [
    "# Build the model with the optimal hyperparameters and train it on the data for 50 epochs\n",
    "hypermodel = hyperband.hypermodel.build(best_hps)\n",
    "\n",
    "hypermodel_history = model.fit(X_train, \n",
    "                               y_train, \n",
    "                               batch_size=64, \n",
    "                               epochs=50, \n",
    "                               validation_split=0.2, \n",
    "                               verbose=0)\n",
    "\n",
    "val_binary_accuracy_per_epoch = hypermodel_history.history['val_binary_accuracy']\n",
    "best_epoch = val_binary_accuracy_per_epoch.index(max(val_binary_accuracy_per_epoch)) + 1\n",
    "print('Best epoch: %d' % (best_epoch,))"
   ]
  },
  {
   "cell_type": "code",
   "execution_count": 21,
   "metadata": {},
   "outputs": [
    {
     "name": "stdout",
     "output_type": "stream",
     "text": [
      "Epoch 1/42\n",
      "32/32 [==============================] - 1s 8ms/step - loss: 0.4071 - binary_accuracy: 0.8248 - val_loss: 0.3405 - val_binary_accuracy: 0.8389\n",
      "Epoch 2/42\n",
      "32/32 [==============================] - 0s 6ms/step - loss: 0.3205 - binary_accuracy: 0.8765 - val_loss: 0.3497 - val_binary_accuracy: 0.8566\n",
      "Epoch 3/42\n",
      "32/32 [==============================] - 0s 6ms/step - loss: 0.3013 - binary_accuracy: 0.8789 - val_loss: 0.3359 - val_binary_accuracy: 0.8566\n",
      "Epoch 4/42\n",
      "32/32 [==============================] - 0s 6ms/step - loss: 0.2976 - binary_accuracy: 0.8853 - val_loss: 0.3322 - val_binary_accuracy: 0.8625\n",
      "Epoch 5/42\n",
      "32/32 [==============================] - 0s 6ms/step - loss: 0.2874 - binary_accuracy: 0.8873 - val_loss: 0.3126 - val_binary_accuracy: 0.8605\n",
      "Epoch 6/42\n",
      "32/32 [==============================] - 0s 5ms/step - loss: 0.2712 - binary_accuracy: 0.8912 - val_loss: 0.3132 - val_binary_accuracy: 0.8743\n",
      "Epoch 7/42\n",
      "32/32 [==============================] - 0s 7ms/step - loss: 0.2779 - binary_accuracy: 0.8971 - val_loss: 0.3175 - val_binary_accuracy: 0.8585\n",
      "Epoch 8/42\n",
      "32/32 [==============================] - 0s 6ms/step - loss: 0.2587 - binary_accuracy: 0.9050 - val_loss: 0.3319 - val_binary_accuracy: 0.8527\n",
      "Epoch 9/42\n",
      "32/32 [==============================] - 0s 7ms/step - loss: 0.2601 - binary_accuracy: 0.9050 - val_loss: 0.3138 - val_binary_accuracy: 0.8507\n",
      "Epoch 10/42\n",
      "32/32 [==============================] - 0s 5ms/step - loss: 0.2607 - binary_accuracy: 0.8981 - val_loss: 0.3087 - val_binary_accuracy: 0.8605\n",
      "Epoch 11/42\n",
      "32/32 [==============================] - 0s 5ms/step - loss: 0.2634 - binary_accuracy: 0.9011 - val_loss: 0.3241 - val_binary_accuracy: 0.8664\n",
      "Epoch 12/42\n",
      "32/32 [==============================] - 0s 6ms/step - loss: 0.2472 - binary_accuracy: 0.9035 - val_loss: 0.3198 - val_binary_accuracy: 0.8527\n",
      "Epoch 13/42\n",
      "32/32 [==============================] - 0s 6ms/step - loss: 0.2470 - binary_accuracy: 0.9070 - val_loss: 0.3429 - val_binary_accuracy: 0.8507\n",
      "Epoch 14/42\n",
      "32/32 [==============================] - 0s 6ms/step - loss: 0.2483 - binary_accuracy: 0.9060 - val_loss: 0.3288 - val_binary_accuracy: 0.8723\n",
      "Epoch 15/42\n",
      "32/32 [==============================] - 0s 7ms/step - loss: 0.2405 - binary_accuracy: 0.9080 - val_loss: 0.3551 - val_binary_accuracy: 0.8585\n",
      "Epoch 16/42\n",
      "32/32 [==============================] - 0s 6ms/step - loss: 0.2341 - binary_accuracy: 0.9114 - val_loss: 0.3080 - val_binary_accuracy: 0.8585\n",
      "Epoch 17/42\n",
      "32/32 [==============================] - 0s 5ms/step - loss: 0.2350 - binary_accuracy: 0.9109 - val_loss: 0.3506 - val_binary_accuracy: 0.8566\n",
      "Epoch 18/42\n",
      "32/32 [==============================] - 0s 6ms/step - loss: 0.2298 - binary_accuracy: 0.9134 - val_loss: 0.3310 - val_binary_accuracy: 0.8644\n",
      "Epoch 19/42\n",
      "32/32 [==============================] - 0s 6ms/step - loss: 0.2467 - binary_accuracy: 0.9094 - val_loss: 0.3122 - val_binary_accuracy: 0.8566\n",
      "Epoch 20/42\n",
      "32/32 [==============================] - 0s 6ms/step - loss: 0.2368 - binary_accuracy: 0.9124 - val_loss: 0.3106 - val_binary_accuracy: 0.8703\n",
      "Epoch 21/42\n",
      "32/32 [==============================] - 0s 6ms/step - loss: 0.2279 - binary_accuracy: 0.9114 - val_loss: 0.3002 - val_binary_accuracy: 0.8605\n",
      "Epoch 22/42\n",
      "32/32 [==============================] - 0s 5ms/step - loss: 0.2155 - binary_accuracy: 0.9213 - val_loss: 0.3219 - val_binary_accuracy: 0.8566\n",
      "Epoch 23/42\n",
      "32/32 [==============================] - 0s 6ms/step - loss: 0.2262 - binary_accuracy: 0.9114 - val_loss: 0.3190 - val_binary_accuracy: 0.8625\n",
      "Epoch 24/42\n",
      "32/32 [==============================] - 0s 6ms/step - loss: 0.2280 - binary_accuracy: 0.9134 - val_loss: 0.3173 - val_binary_accuracy: 0.8605\n",
      "Epoch 25/42\n",
      "32/32 [==============================] - 0s 6ms/step - loss: 0.2266 - binary_accuracy: 0.9154 - val_loss: 0.3233 - val_binary_accuracy: 0.8782\n",
      "Epoch 26/42\n",
      "32/32 [==============================] - 0s 5ms/step - loss: 0.2127 - binary_accuracy: 0.9158 - val_loss: 0.3709 - val_binary_accuracy: 0.8566\n",
      "Epoch 27/42\n",
      "32/32 [==============================] - 0s 7ms/step - loss: 0.2132 - binary_accuracy: 0.9144 - val_loss: 0.3587 - val_binary_accuracy: 0.8527\n",
      "Epoch 28/42\n",
      "32/32 [==============================] - 0s 6ms/step - loss: 0.2130 - binary_accuracy: 0.9218 - val_loss: 0.3740 - val_binary_accuracy: 0.8468\n",
      "Epoch 29/42\n",
      "32/32 [==============================] - 0s 6ms/step - loss: 0.2494 - binary_accuracy: 0.9065 - val_loss: 0.3135 - val_binary_accuracy: 0.8585\n",
      "Epoch 30/42\n",
      "32/32 [==============================] - 0s 6ms/step - loss: 0.2175 - binary_accuracy: 0.9198 - val_loss: 0.3293 - val_binary_accuracy: 0.8566\n",
      "Epoch 31/42\n",
      "32/32 [==============================] - 0s 6ms/step - loss: 0.2058 - binary_accuracy: 0.9198 - val_loss: 0.3496 - val_binary_accuracy: 0.8585\n",
      "Epoch 32/42\n",
      "32/32 [==============================] - 0s 6ms/step - loss: 0.2146 - binary_accuracy: 0.9193 - val_loss: 0.3253 - val_binary_accuracy: 0.8625\n",
      "Epoch 33/42\n",
      "32/32 [==============================] - 0s 5ms/step - loss: 0.2151 - binary_accuracy: 0.9149 - val_loss: 0.3136 - val_binary_accuracy: 0.8644\n",
      "Epoch 34/42\n",
      "32/32 [==============================] - 0s 6ms/step - loss: 0.2190 - binary_accuracy: 0.9168 - val_loss: 0.3472 - val_binary_accuracy: 0.8664\n",
      "Epoch 35/42\n",
      "32/32 [==============================] - 0s 6ms/step - loss: 0.2078 - binary_accuracy: 0.9198 - val_loss: 0.3742 - val_binary_accuracy: 0.8566\n",
      "Epoch 36/42\n",
      "32/32 [==============================] - 0s 6ms/step - loss: 0.2027 - binary_accuracy: 0.9208 - val_loss: 0.3565 - val_binary_accuracy: 0.8664\n",
      "Epoch 37/42\n",
      "32/32 [==============================] - 0s 6ms/step - loss: 0.2054 - binary_accuracy: 0.9198 - val_loss: 0.3481 - val_binary_accuracy: 0.8684\n",
      "Epoch 38/42\n",
      "32/32 [==============================] - 0s 6ms/step - loss: 0.1984 - binary_accuracy: 0.9213 - val_loss: 0.3375 - val_binary_accuracy: 0.8605\n",
      "Epoch 39/42\n",
      "32/32 [==============================] - 0s 7ms/step - loss: 0.1911 - binary_accuracy: 0.9257 - val_loss: 0.3450 - val_binary_accuracy: 0.8527\n",
      "Epoch 40/42\n",
      "32/32 [==============================] - 0s 6ms/step - loss: 0.1969 - binary_accuracy: 0.9291 - val_loss: 0.3499 - val_binary_accuracy: 0.8644\n",
      "Epoch 41/42\n",
      "32/32 [==============================] - 0s 5ms/step - loss: 0.1866 - binary_accuracy: 0.9242 - val_loss: 0.4078 - val_binary_accuracy: 0.8625\n",
      "Epoch 42/42\n",
      "32/32 [==============================] - 0s 5ms/step - loss: 0.2108 - binary_accuracy: 0.9154 - val_loss: 0.3398 - val_binary_accuracy: 0.8703\n"
     ]
    },
    {
     "data": {
      "text/plain": [
       "<keras.src.callbacks.History at 0x7fed643033d0>"
      ]
     },
     "execution_count": 21,
     "metadata": {},
     "output_type": "execute_result"
    }
   ],
   "source": [
    "hypermodel = hyperband.hypermodel.build(best_hps)\n",
    "\n",
    "# Retrain the model\n",
    "hypermodel.fit(X_train, \n",
    "               y_train, \n",
    "               batch_size=64, \n",
    "               epochs=best_epoch, \n",
    "               validation_split=0.2)"
   ]
  },
  {
   "cell_type": "code",
   "execution_count": 22,
   "metadata": {},
   "outputs": [
    {
     "name": "stdout",
     "output_type": "stream",
     "text": [
      "35/35 [==============================] - 0s 3ms/step - loss: 0.3026 - binary_accuracy: 0.9045\n",
      "[test loss, test accuracy]: [0.30264610052108765, 0.9044995307922363]\n"
     ]
    }
   ],
   "source": [
    "eval_result = hypermodel.evaluate(X_test, y_test)\n",
    "print(\"[test loss, test accuracy]:\", eval_result)"
   ]
  },
  {
   "cell_type": "code",
   "execution_count": 24,
   "metadata": {},
   "outputs": [
    {
     "name": "stdout",
     "output_type": "stream",
     "text": [
      " 1/35 [..............................] - ETA: 0s"
     ]
    },
    {
     "name": "stdout",
     "output_type": "stream",
     "text": [
      "35/35 [==============================] - 0s 2ms/step\n",
      "Matriz de Confusão: \n",
      " [[636  27]\n",
      " [ 77 349]]\n",
      "              precision    recall  f1-score   support\n",
      "\n",
      "           0       0.89      0.96      0.92       663\n",
      "           1       0.93      0.82      0.87       426\n",
      "\n",
      "    accuracy                           0.90      1089\n",
      "   macro avg       0.91      0.89      0.90      1089\n",
      "weighted avg       0.91      0.90      0.90      1089\n",
      "\n",
      "Acuracidade:  0.9044995408631772\n"
     ]
    }
   ],
   "source": [
    "hypermodel_y_pred = hypermodel.predict(X_test) >= 0.5\n",
    "\n",
    "print('Matriz de Confusão: \\n' , confusion_matrix(y_test, hypermodel_y_pred))\n",
    "\n",
    "print(classification_report(y_test, hypermodel_y_pred))\n",
    "\n",
    "print('Acuracidade: ' , accuracy_score(y_test, hypermodel_y_pred))"
   ]
  },
  {
   "cell_type": "markdown",
   "id": "hZACoXstFIL7",
   "metadata": {
    "id": "hZACoXstFIL7"
   },
   "source": [
    "---\n",
    "## Conclusões\n",
    "\n",
    "Ao utilizar as técnicas de ajustes automáticos de hiperparâmetros, podemos observar um resultado ligeiramente superior (90.44%) comparado ao modelo criado com valores arbitários (89.80%)."
   ]
  },
  {
   "cell_type": "markdown",
   "id": "fd873874-7983-4635-a0d5-aa1cb037bfdf",
   "metadata": {
    "id": "fd873874-7983-4635-a0d5-aa1cb037bfdf"
   },
   "source": [
    "---\n",
    "## Referências\n",
    "\n",
    "1. University of California, Irvine. Predict Student's Dropout and Academic Success. UCI Machine Learning Repository. Disponível em: https://archive.ics.uci.edu/dataset/697/predict+students+dropout+and+academic+success. Acesso em: 23 nov.2023.\n",
    "\n",
    "2. BETTER-DATA-SCIENCE. TensorFlow Classification. 2023. Software. Disponível em: https://github.com/better-data-science/TensorFlow/blob/main/003_TensorFlow_Classification.ipynb. Acesso em: 22 nov.2023."
   ]
  }
 ],
 "metadata": {
  "accelerator": "GPU",
  "colab": {
   "gpuType": "T4",
   "provenance": []
  },
  "kernelspec": {
   "display_name": "Python 3",
   "name": "python3"
  },
  "language_info": {
   "codemirror_mode": {
    "name": "ipython",
    "version": 3
   },
   "file_extension": ".py",
   "mimetype": "text/x-python",
   "name": "python",
   "nbconvert_exporter": "python",
   "pygments_lexer": "ipython3",
   "version": "3.10.12"
  }
 },
 "nbformat": 4,
 "nbformat_minor": 5
}
