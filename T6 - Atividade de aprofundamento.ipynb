{
 "cells": [
  {
   "cell_type": "markdown",
   "id": "vsmo_qbU_k-m",
   "metadata": {
    "id": "vsmo_qbU_k-m"
   },
   "source": [
    "<head>\n",
    "  <meta name=\"author\" content=\"Rogério de Oliveira\">\n",
    "  <meta institution=\"author\" content=\"Universidade Presbiteriana Mackenzie\">\n",
    "</head>\n",
    "\n",
    "<img src=\"http://meusite.mackenzie.br/rogerio/mackenzie_logo/UPM.2_horizontal_vermelho.jpg\" width=300, align=\"right\" />\n",
    "\n",
    "<h1 align=left><font size=8><b>Inteligência Artificial</b></font></h1>\n",
    "<h1 align=left><font size=6><b>Deep Learning</b></font></h1>\n",
    "\n",
    "# Atividade: T6 - Atividade de aprofundamento\n",
    "\n",
    "Nome: Bruno Rebocho de Toledo\n",
    "\n",
    "Turma: 01B\n",
    "\n",
    "Matrícula: 92316328"
   ]
  },
  {
   "cell_type": "markdown",
   "id": "zWa4QPRf5VHf",
   "metadata": {
    "id": "zWa4QPRf5VHf"
   },
   "source": [
    "---\n",
    "## Introdução\n",
    "\n",
    "Este notebook tem como objetivo explorar as capacidades de classificação de redes neurais com PyTorch."
   ]
  },
  {
   "cell_type": "markdown",
   "id": "OyDLRklQ5ail",
   "metadata": {
    "id": "OyDLRklQ5ail"
   },
   "source": [
    "---\n",
    "## Dataset \"Predict students' dropout and academic success\"[1]\n",
    "\n",
    "O conjunto de dados escolhido, criado a partir de uma instituição de ensino superior (adquirido de várias bases de dados independentes), descreve estudantes matriculados em diferentes graduações, como agronomia, design, educação, enfermagem, jornalismo, gestão, serviço social e tecnologias. O conjunto de dados inclui informações conhecidas no momento da matrícula do estudante (trajetória acadêmica, demografia e fatores socioeconômicos) e o desempenho acadêmico dos alunos ao final do primeiro e segundo semestres. Os dados são usados para construir modelos de classificação para prever a evasão e o sucesso acadêmico."
   ]
  },
  {
   "cell_type": "markdown",
   "id": "AZ30CrXR5dT2",
   "metadata": {
    "id": "AZ30CrXR5dT2"
   },
   "source": [
    "---\n",
    "## O Problema\n",
    "\n",
    "O problema é formulado como uma tarefa de classificação binária indicando a conclusão ou desistência do curso, na qual existe um forte desequilíbrio em favor de uma das classes originais."
   ]
  },
  {
   "cell_type": "markdown",
   "id": "RpViNFwu6rDV",
   "metadata": {
    "id": "RpViNFwu6rDV"
   },
   "source": [
    "## Uso de GPU\n",
    "\n",
    "Iniciamos configurando nosso ambiente de execução para utilizar a GPU, caso disponível. As operações a serem executadas no treinamento deste modelo tendem a serem feitas de maneira muito mais rápida e eficiente em GPUs, devido à natureza da arquitetura deste tipo de chip e as estruturas dos dados aos quais iremos operar."
   ]
  },
  {
   "cell_type": "code",
   "execution_count": 2,
   "id": "8iXuJgQvyXdu",
   "metadata": {
    "ExecuteTime": {
     "end_time": "2023-11-26T00:47:27.552307Z",
     "start_time": "2023-11-26T00:47:27.365339Z"
    },
    "colab": {
     "base_uri": "https://localhost:8080/"
    },
    "id": "8iXuJgQvyXdu",
    "outputId": "39f6b5c9-fe02-461d-afae-11f3422b5244"
   },
   "outputs": [
    {
     "name": "stdout",
     "output_type": "stream",
     "text": [
      "Using cuda device\n"
     ]
    }
   ],
   "source": [
    "import torch\n",
    "\n",
    "device = \"cuda\" if torch.cuda.is_available() else \"cpu\"\n",
    "print(\"Using {} device\".format(device))"
   ]
  },
  {
   "cell_type": "markdown",
   "id": "JfqXdIpx5g1B",
   "metadata": {
    "id": "JfqXdIpx5g1B"
   },
   "source": [
    "---\n",
    "## Explorando os Dados\n",
    "\n",
    "Inicialmente, começamos explorando os dados ao importar as bibliotecas `numpy` e `pandas`. Utilizamos o `pandas` para ler o arquivo 'data.csv', especificando o ponto e vírgula como delimitador.\n",
    "\n",
    "Após a leitura do arquivo, exibimos as primeiras cinco linhas do DataFrame `df` com a função `head()`. Esta visualização inicial nos fornece uma visão rápida de como os dados estão estruturados, incluindo nomes de colunas e tipos de dados, o que é crucial para o planejamento das etapas seguintes de análise.\n",
    "\n",
    "Em seguida, imprimimos a dimensão do DataFrame com `df.shape`, revelando o número total de linhas e colunas. Esta informação é fundamental para entender o volume e a complexidade dos dados com os quais estamos trabalhando, orientando as decisões sobre o processamento e a análise subsequente.\n",
    "\n",
    "Por vim, verificamos a presença de nulos ou valores ausentes, o que não é o caso deste nosso conjunto de dados."
   ]
  },
  {
   "cell_type": "code",
   "execution_count": 3,
   "id": "MuDRgxra5iBY",
   "metadata": {
    "ExecuteTime": {
     "start_time": "2023-11-26T00:47:27.550901Z"
    },
    "colab": {
     "base_uri": "https://localhost:8080/",
     "height": 638
    },
    "id": "MuDRgxra5iBY",
    "outputId": "3efe12dc-6e72-4d6d-fa8a-b0f7f6219190"
   },
   "outputs": [
    {
     "name": "stdout",
     "output_type": "stream",
     "text": [
      "--2023-11-25 23:10:58--  https://drive.google.com/uc?export=download&id=1hnHg7IN3qTPnIui2XrkT5hUd9XFH8Ecn\n",
      "Resolving drive.google.com (drive.google.com)... 142.250.219.142, 2800:3f0:4001:823::200e\n",
      "Connecting to drive.google.com (drive.google.com)|142.250.219.142|:443... connected.\n",
      "HTTP request sent, awaiting response... 303 See Other\n",
      "Location: https://doc-00-9c-docs.googleusercontent.com/docs/securesc/ha0ro937gcuc7l7deffksulhg5h7mbp1/n7fds8i7sdqppoojkmd00ol85do17h30/1700964375000/04037409333778562145/*/1hnHg7IN3qTPnIui2XrkT5hUd9XFH8Ecn?e=download&uuid=b5241756-c5c7-4d57-ad0e-89dbe38c8fa5 [following]\n",
      "Warning: wildcards not supported in HTTP.\n",
      "--2023-11-25 23:10:59--  https://doc-00-9c-docs.googleusercontent.com/docs/securesc/ha0ro937gcuc7l7deffksulhg5h7mbp1/n7fds8i7sdqppoojkmd00ol85do17h30/1700964375000/04037409333778562145/*/1hnHg7IN3qTPnIui2XrkT5hUd9XFH8Ecn?e=download&uuid=b5241756-c5c7-4d57-ad0e-89dbe38c8fa5\n",
      "Resolving doc-00-9c-docs.googleusercontent.com (doc-00-9c-docs.googleusercontent.com)... 142.251.129.97, 2800:3f0:4001:82e::2001\n",
      "Connecting to doc-00-9c-docs.googleusercontent.com (doc-00-9c-docs.googleusercontent.com)|142.251.129.97|:443... connected.\n",
      "HTTP request sent, awaiting response... 200 OK\n",
      "Length: 533230 (521K) [text/csv]\n",
      "Saving to: ‘data.csv’\n",
      "\n",
      "data.csv            100%[===================>] 520.73K  1.50MB/s    in 0.3s    \n",
      "\n",
      "2023-11-25 23:11:00 (1.50 MB/s) - ‘data.csv’ saved [533230/533230]\n",
      "\n"
     ]
    },
    {
     "data": {
      "text/html": [
       "<div>\n",
       "<style scoped>\n",
       "    .dataframe tbody tr th:only-of-type {\n",
       "        vertical-align: middle;\n",
       "    }\n",
       "\n",
       "    .dataframe tbody tr th {\n",
       "        vertical-align: top;\n",
       "    }\n",
       "\n",
       "    .dataframe thead th {\n",
       "        text-align: right;\n",
       "    }\n",
       "</style>\n",
       "<table border=\"1\" class=\"dataframe\">\n",
       "  <thead>\n",
       "    <tr style=\"text-align: right;\">\n",
       "      <th></th>\n",
       "      <th>Marital status</th>\n",
       "      <th>Application mode</th>\n",
       "      <th>Application order</th>\n",
       "      <th>Course</th>\n",
       "      <th>Daytime/evening attendance\\t</th>\n",
       "      <th>Previous qualification</th>\n",
       "      <th>Previous qualification (grade)</th>\n",
       "      <th>Nacionality</th>\n",
       "      <th>Mother's qualification</th>\n",
       "      <th>Father's qualification</th>\n",
       "      <th>...</th>\n",
       "      <th>Curricular units 2nd sem (credited)</th>\n",
       "      <th>Curricular units 2nd sem (enrolled)</th>\n",
       "      <th>Curricular units 2nd sem (evaluations)</th>\n",
       "      <th>Curricular units 2nd sem (approved)</th>\n",
       "      <th>Curricular units 2nd sem (grade)</th>\n",
       "      <th>Curricular units 2nd sem (without evaluations)</th>\n",
       "      <th>Unemployment rate</th>\n",
       "      <th>Inflation rate</th>\n",
       "      <th>GDP</th>\n",
       "      <th>Target</th>\n",
       "    </tr>\n",
       "  </thead>\n",
       "  <tbody>\n",
       "    <tr>\n",
       "      <th>0</th>\n",
       "      <td>1</td>\n",
       "      <td>17</td>\n",
       "      <td>5</td>\n",
       "      <td>171</td>\n",
       "      <td>1</td>\n",
       "      <td>1</td>\n",
       "      <td>122.0</td>\n",
       "      <td>1</td>\n",
       "      <td>19</td>\n",
       "      <td>12</td>\n",
       "      <td>...</td>\n",
       "      <td>0</td>\n",
       "      <td>0</td>\n",
       "      <td>0</td>\n",
       "      <td>0</td>\n",
       "      <td>0.000000</td>\n",
       "      <td>0</td>\n",
       "      <td>10.8</td>\n",
       "      <td>1.4</td>\n",
       "      <td>1.74</td>\n",
       "      <td>Dropout</td>\n",
       "    </tr>\n",
       "    <tr>\n",
       "      <th>1</th>\n",
       "      <td>1</td>\n",
       "      <td>15</td>\n",
       "      <td>1</td>\n",
       "      <td>9254</td>\n",
       "      <td>1</td>\n",
       "      <td>1</td>\n",
       "      <td>160.0</td>\n",
       "      <td>1</td>\n",
       "      <td>1</td>\n",
       "      <td>3</td>\n",
       "      <td>...</td>\n",
       "      <td>0</td>\n",
       "      <td>6</td>\n",
       "      <td>6</td>\n",
       "      <td>6</td>\n",
       "      <td>13.666667</td>\n",
       "      <td>0</td>\n",
       "      <td>13.9</td>\n",
       "      <td>-0.3</td>\n",
       "      <td>0.79</td>\n",
       "      <td>Graduate</td>\n",
       "    </tr>\n",
       "    <tr>\n",
       "      <th>2</th>\n",
       "      <td>1</td>\n",
       "      <td>1</td>\n",
       "      <td>5</td>\n",
       "      <td>9070</td>\n",
       "      <td>1</td>\n",
       "      <td>1</td>\n",
       "      <td>122.0</td>\n",
       "      <td>1</td>\n",
       "      <td>37</td>\n",
       "      <td>37</td>\n",
       "      <td>...</td>\n",
       "      <td>0</td>\n",
       "      <td>6</td>\n",
       "      <td>0</td>\n",
       "      <td>0</td>\n",
       "      <td>0.000000</td>\n",
       "      <td>0</td>\n",
       "      <td>10.8</td>\n",
       "      <td>1.4</td>\n",
       "      <td>1.74</td>\n",
       "      <td>Dropout</td>\n",
       "    </tr>\n",
       "    <tr>\n",
       "      <th>3</th>\n",
       "      <td>1</td>\n",
       "      <td>17</td>\n",
       "      <td>2</td>\n",
       "      <td>9773</td>\n",
       "      <td>1</td>\n",
       "      <td>1</td>\n",
       "      <td>122.0</td>\n",
       "      <td>1</td>\n",
       "      <td>38</td>\n",
       "      <td>37</td>\n",
       "      <td>...</td>\n",
       "      <td>0</td>\n",
       "      <td>6</td>\n",
       "      <td>10</td>\n",
       "      <td>5</td>\n",
       "      <td>12.400000</td>\n",
       "      <td>0</td>\n",
       "      <td>9.4</td>\n",
       "      <td>-0.8</td>\n",
       "      <td>-3.12</td>\n",
       "      <td>Graduate</td>\n",
       "    </tr>\n",
       "    <tr>\n",
       "      <th>4</th>\n",
       "      <td>2</td>\n",
       "      <td>39</td>\n",
       "      <td>1</td>\n",
       "      <td>8014</td>\n",
       "      <td>0</td>\n",
       "      <td>1</td>\n",
       "      <td>100.0</td>\n",
       "      <td>1</td>\n",
       "      <td>37</td>\n",
       "      <td>38</td>\n",
       "      <td>...</td>\n",
       "      <td>0</td>\n",
       "      <td>6</td>\n",
       "      <td>6</td>\n",
       "      <td>6</td>\n",
       "      <td>13.000000</td>\n",
       "      <td>0</td>\n",
       "      <td>13.9</td>\n",
       "      <td>-0.3</td>\n",
       "      <td>0.79</td>\n",
       "      <td>Graduate</td>\n",
       "    </tr>\n",
       "  </tbody>\n",
       "</table>\n",
       "<p>5 rows × 37 columns</p>\n",
       "</div>"
      ],
      "text/plain": [
       "   Marital status  Application mode  Application order  Course  \\\n",
       "0               1                17                  5     171   \n",
       "1               1                15                  1    9254   \n",
       "2               1                 1                  5    9070   \n",
       "3               1                17                  2    9773   \n",
       "4               2                39                  1    8014   \n",
       "\n",
       "   Daytime/evening attendance\\t  Previous qualification  \\\n",
       "0                             1                       1   \n",
       "1                             1                       1   \n",
       "2                             1                       1   \n",
       "3                             1                       1   \n",
       "4                             0                       1   \n",
       "\n",
       "   Previous qualification (grade)  Nacionality  Mother's qualification  \\\n",
       "0                           122.0            1                      19   \n",
       "1                           160.0            1                       1   \n",
       "2                           122.0            1                      37   \n",
       "3                           122.0            1                      38   \n",
       "4                           100.0            1                      37   \n",
       "\n",
       "   Father's qualification  ...  Curricular units 2nd sem (credited)  \\\n",
       "0                      12  ...                                    0   \n",
       "1                       3  ...                                    0   \n",
       "2                      37  ...                                    0   \n",
       "3                      37  ...                                    0   \n",
       "4                      38  ...                                    0   \n",
       "\n",
       "   Curricular units 2nd sem (enrolled)  \\\n",
       "0                                    0   \n",
       "1                                    6   \n",
       "2                                    6   \n",
       "3                                    6   \n",
       "4                                    6   \n",
       "\n",
       "   Curricular units 2nd sem (evaluations)  \\\n",
       "0                                       0   \n",
       "1                                       6   \n",
       "2                                       0   \n",
       "3                                      10   \n",
       "4                                       6   \n",
       "\n",
       "   Curricular units 2nd sem (approved)  Curricular units 2nd sem (grade)  \\\n",
       "0                                    0                          0.000000   \n",
       "1                                    6                         13.666667   \n",
       "2                                    0                          0.000000   \n",
       "3                                    5                         12.400000   \n",
       "4                                    6                         13.000000   \n",
       "\n",
       "   Curricular units 2nd sem (without evaluations)  Unemployment rate  \\\n",
       "0                                               0               10.8   \n",
       "1                                               0               13.9   \n",
       "2                                               0               10.8   \n",
       "3                                               0                9.4   \n",
       "4                                               0               13.9   \n",
       "\n",
       "   Inflation rate   GDP    Target  \n",
       "0             1.4  1.74   Dropout  \n",
       "1            -0.3  0.79  Graduate  \n",
       "2             1.4  1.74   Dropout  \n",
       "3            -0.8 -3.12  Graduate  \n",
       "4            -0.3  0.79  Graduate  \n",
       "\n",
       "[5 rows x 37 columns]"
      ]
     },
     "metadata": {},
     "output_type": "display_data"
    },
    {
     "name": "stdout",
     "output_type": "stream",
     "text": [
      "(4424, 37)\n"
     ]
    }
   ],
   "source": [
    "import numpy as np\n",
    "import pandas as pd\n",
    "\n",
    "!wget -O data.csv 'https://drive.google.com/uc?export=download&id=1hnHg7IN3qTPnIui2XrkT5hUd9XFH8Ecn'\n",
    "\n",
    "df = pd.read_csv('data.csv', delimiter=';')\n",
    "\n",
    "display(df.head())\n",
    "\n",
    "print(df.shape)"
   ]
  },
  {
   "cell_type": "code",
   "execution_count": 4,
   "id": "MKI0ObxP5mHe",
   "metadata": {
    "ExecuteTime": {
     "end_time": "2023-11-26T00:47:27.553877Z",
     "start_time": "2023-11-26T00:47:27.553164Z"
    },
    "colab": {
     "base_uri": "https://localhost:8080/"
    },
    "id": "MKI0ObxP5mHe",
    "outputId": "4e0874fa-c716-4eba-df08-ed4611ec7764"
   },
   "outputs": [
    {
     "data": {
      "text/plain": [
       "Marital status                                    0\n",
       "Application mode                                  0\n",
       "Application order                                 0\n",
       "Course                                            0\n",
       "Daytime/evening attendance\\t                      0\n",
       "Previous qualification                            0\n",
       "Previous qualification (grade)                    0\n",
       "Nacionality                                       0\n",
       "Mother's qualification                            0\n",
       "Father's qualification                            0\n",
       "Mother's occupation                               0\n",
       "Father's occupation                               0\n",
       "Admission grade                                   0\n",
       "Displaced                                         0\n",
       "Educational special needs                         0\n",
       "Debtor                                            0\n",
       "Tuition fees up to date                           0\n",
       "Gender                                            0\n",
       "Scholarship holder                                0\n",
       "Age at enrollment                                 0\n",
       "International                                     0\n",
       "Curricular units 1st sem (credited)               0\n",
       "Curricular units 1st sem (enrolled)               0\n",
       "Curricular units 1st sem (evaluations)            0\n",
       "Curricular units 1st sem (approved)               0\n",
       "Curricular units 1st sem (grade)                  0\n",
       "Curricular units 1st sem (without evaluations)    0\n",
       "Curricular units 2nd sem (credited)               0\n",
       "Curricular units 2nd sem (enrolled)               0\n",
       "Curricular units 2nd sem (evaluations)            0\n",
       "Curricular units 2nd sem (approved)               0\n",
       "Curricular units 2nd sem (grade)                  0\n",
       "Curricular units 2nd sem (without evaluations)    0\n",
       "Unemployment rate                                 0\n",
       "Inflation rate                                    0\n",
       "GDP                                               0\n",
       "Target                                            0\n",
       "dtype: int64"
      ]
     },
     "execution_count": 4,
     "metadata": {},
     "output_type": "execute_result"
    }
   ],
   "source": [
    "df.isnull().sum()"
   ]
  },
  {
   "cell_type": "markdown",
   "id": "zHhMIDrD5pjj",
   "metadata": {
    "id": "zHhMIDrD5pjj"
   },
   "source": [
    "#### Avaliando a Distribuição da Coluna Alvo\n",
    "\n",
    "Prosseguindo com a exploração dos dados, focamos na coluna 'Target', que desempenha um papel crucial na nossa análise. Para entender melhor a distribuição dos valores nesta coluna, utilizamos o método `value_counts()` do Pandas. Este método nos retorna rapidamente um panorama da frequência de cada valor único na coluna 'Target'.\n",
    "\n",
    "Ao realizar esta operação, estamos buscando informações sobre a distribuição das classes ou categorias representadas na coluna 'Target'. Esta informação é vital, pois uma distribuição desigual das classes pode influenciar significativamente o desempenho do modelo.\n",
    "\n",
    "Assim, ao imprimir o resultado de `value_counts()`, estabelecemos uma base para compreender como os dados estão estruturados em relação à variável que pretendemos prever.\n",
    "\n",
    "Como esperado, há um forte desbalanceamento entre os valores."
   ]
  },
  {
   "cell_type": "code",
   "execution_count": 5,
   "id": "sArFNUk65neM",
   "metadata": {
    "ExecuteTime": {
     "end_time": "2023-11-26T00:47:27.557257Z",
     "start_time": "2023-11-26T00:47:27.555503Z"
    },
    "colab": {
     "base_uri": "https://localhost:8080/"
    },
    "id": "sArFNUk65neM",
    "outputId": "eb4f744b-7a16-4254-8a8f-2c95224ff56c"
   },
   "outputs": [
    {
     "name": "stdout",
     "output_type": "stream",
     "text": [
      "Target\n",
      "Graduate    2209\n",
      "Dropout     1421\n",
      "Enrolled     794\n",
      "Name: count, dtype: int64\n"
     ]
    }
   ],
   "source": [
    "print(df['Target'].value_counts())"
   ]
  },
  {
   "cell_type": "markdown",
   "id": "72UZHs6i5uwU",
   "metadata": {
    "id": "72UZHs6i5uwU"
   },
   "source": [
    "---\n",
    "## Preparação dos Dados para Modelagem\n",
    "\n",
    "Como estamos trabalhando com PyTorch, é boa prática criar uma classe customizada que extende a classe Dataset. Definimos um construtor com os parâmetros `X` e `y` a serem informados externamente. Esta abordagem foi escolhida pois facilita a normalização dos dados fora do contexto desta classe e simplifica sua reutilização.\n",
    "\n",
    "Os métodos `__len__` e `__getitem__` também foram implementados pois são necessários para trabalhar em conjunto com o `DataLoader`.\n",
    "\n",
    "Com o objetivo de adaptar nosso conjunto de dados para um problema de classificação binária, fizemos ajustes focando nas categorias 'Graduate' e 'Dropout'. Criamos a nova coluna 'Dropout' no DataFrame, codificando 'Graduate' como 0 e 'Dropout' como 1, que será nossa variável dependente. Eliminamos a categoria 'Enrolled', o que também contribui para reduzir o desbalanceamento inicial das classes.\n",
    "\n",
    "Com a nova organização dos dados, removemos a coluna 'Target', pois ela já foi codificada em 'Dropout'. Em seguida, separamos o DataFrame em variáveis independentes `X` e a variável dependente `y`, que agora reflete com precisão o nosso problema binário de prever se um aluno irá se formar ou desistir."
   ]
  },
  {
   "cell_type": "code",
   "execution_count": 6,
   "id": "l6xtOI-mv4-8",
   "metadata": {
    "ExecuteTime": {
     "start_time": "2023-11-26T00:47:27.557158Z"
    },
    "colab": {
     "base_uri": "https://localhost:8080/"
    },
    "id": "l6xtOI-mv4-8",
    "outputId": "291ee413-22cf-43bd-de60-cd140c80ffb8"
   },
   "outputs": [],
   "source": [
    "import pandas as pd\n",
    "from torch.utils.data import Dataset\n",
    "from sklearn.preprocessing import LabelEncoder, StandardScaler\n",
    "from sklearn.model_selection import train_test_split\n",
    "\n",
    "class CSVDataset(Dataset):\n",
    "    # load the dataset\n",
    "    def __init__(self, X, y):\n",
    "        self.X = X\n",
    "        self.y = y\n",
    "\n",
    "    # number of rows in the dataset\n",
    "    def __len__(self):\n",
    "        return len(self.X)\n",
    "\n",
    "    # get a row at an index\n",
    "    def __getitem__(self, idx):\n",
    "        return [self.X[idx], self.y[idx]]\n",
    "\n",
    "df = df[df['Target'].isin(['Graduate', 'Dropout'])]\n",
    "df['Dropout'] = [0 if typ == 'Graduate' else 1 for typ in df['Target']]\n",
    "df.drop(['Target'], axis=1, inplace=True)\n",
    "\n",
    "X = df.values[:, :-1].astype('float32')\n",
    "y = LabelEncoder().fit_transform(df.values[:, -1]).astype('float32').reshape((-1, 1))"
   ]
  },
  {
   "cell_type": "markdown",
   "id": "B_8WrMIr512Q",
   "metadata": {
    "id": "B_8WrMIr512Q"
   },
   "source": [
    "---\n",
    "## Separando os Dados em Treinamento e Teste\n",
    "\n",
    "Agora avançamos para  a divisão do conjunto de dados em partes para treinamento e teste. Ao definirmos o parâmetro `test_size` como 0.3, estamos especificando que 30% do conjunto de dados será reservado para teste e 70% para treinar o modelo, conforme solicitado.\n",
    "\n",
    "Após a aplicação da `train_test_split`, obtemos quatro conjuntos de dados: `X_train` e `y_train`, utilizados para treinamento, e `X_test` e `y_test`, que servirão para testar o modelo após o treinamento."
   ]
  },
  {
   "cell_type": "code",
   "execution_count": 7,
   "id": "yPkTGHlN51Xv",
   "metadata": {
    "ExecuteTime": {
     "end_time": "2023-11-26T00:47:27.567009Z",
     "start_time": "2023-11-26T00:47:27.558684Z"
    },
    "id": "yPkTGHlN51Xv"
   },
   "outputs": [],
   "source": [
    "X_train, X_test, y_train, y_test = train_test_split(X, y, test_size=0.3, random_state=123, stratify=y)"
   ]
  },
  {
   "cell_type": "markdown",
   "id": "XgfBQ4e657ot",
   "metadata": {
    "id": "XgfBQ4e657ot"
   },
   "source": [
    "---\n",
    "## Normalizando os Dados\n",
    "\n",
    "Iniciamos este processo utilizando o método `describe()` do DataFrame, que fornece um resumo estatístico, como média, desvio padrão, valores mínimos e máximos. Esta visão permite identificar a necessidade de normalização."
   ]
  },
  {
   "cell_type": "code",
   "execution_count": 8,
   "id": "-KnwKhIH6Lda",
   "metadata": {
    "ExecuteTime": {
     "start_time": "2023-11-26T00:47:27.560268Z"
    },
    "colab": {
     "base_uri": "https://localhost:8080/",
     "height": 402
    },
    "id": "-KnwKhIH6Lda",
    "outputId": "d415f061-9868-4af8-e6ad-ec0c208abfe5"
   },
   "outputs": [
    {
     "data": {
      "text/html": [
       "<div>\n",
       "<style scoped>\n",
       "    .dataframe tbody tr th:only-of-type {\n",
       "        vertical-align: middle;\n",
       "    }\n",
       "\n",
       "    .dataframe tbody tr th {\n",
       "        vertical-align: top;\n",
       "    }\n",
       "\n",
       "    .dataframe thead th {\n",
       "        text-align: right;\n",
       "    }\n",
       "</style>\n",
       "<table border=\"1\" class=\"dataframe\">\n",
       "  <thead>\n",
       "    <tr style=\"text-align: right;\">\n",
       "      <th></th>\n",
       "      <th>Marital status</th>\n",
       "      <th>Application mode</th>\n",
       "      <th>Application order</th>\n",
       "      <th>Course</th>\n",
       "      <th>Daytime/evening attendance\\t</th>\n",
       "      <th>Previous qualification</th>\n",
       "      <th>Previous qualification (grade)</th>\n",
       "      <th>Nacionality</th>\n",
       "      <th>Mother's qualification</th>\n",
       "      <th>Father's qualification</th>\n",
       "      <th>...</th>\n",
       "      <th>Curricular units 2nd sem (credited)</th>\n",
       "      <th>Curricular units 2nd sem (enrolled)</th>\n",
       "      <th>Curricular units 2nd sem (evaluations)</th>\n",
       "      <th>Curricular units 2nd sem (approved)</th>\n",
       "      <th>Curricular units 2nd sem (grade)</th>\n",
       "      <th>Curricular units 2nd sem (without evaluations)</th>\n",
       "      <th>Unemployment rate</th>\n",
       "      <th>Inflation rate</th>\n",
       "      <th>GDP</th>\n",
       "      <th>Dropout</th>\n",
       "    </tr>\n",
       "  </thead>\n",
       "  <tbody>\n",
       "    <tr>\n",
       "      <th>count</th>\n",
       "      <td>3630.000000</td>\n",
       "      <td>3630.000000</td>\n",
       "      <td>3630.000000</td>\n",
       "      <td>3630.000000</td>\n",
       "      <td>3630.000000</td>\n",
       "      <td>3630.000000</td>\n",
       "      <td>3630.000000</td>\n",
       "      <td>3630.000000</td>\n",
       "      <td>3630.000000</td>\n",
       "      <td>3630.000000</td>\n",
       "      <td>...</td>\n",
       "      <td>3630.000000</td>\n",
       "      <td>3630.000000</td>\n",
       "      <td>3630.000000</td>\n",
       "      <td>3630.000000</td>\n",
       "      <td>3630.000000</td>\n",
       "      <td>3630.000000</td>\n",
       "      <td>3630.000000</td>\n",
       "      <td>3630.000000</td>\n",
       "      <td>3630.000000</td>\n",
       "      <td>3630.000000</td>\n",
       "    </tr>\n",
       "    <tr>\n",
       "      <th>mean</th>\n",
       "      <td>1.184298</td>\n",
       "      <td>18.421763</td>\n",
       "      <td>1.750138</td>\n",
       "      <td>8853.980992</td>\n",
       "      <td>0.887603</td>\n",
       "      <td>4.532231</td>\n",
       "      <td>132.920606</td>\n",
       "      <td>1.828099</td>\n",
       "      <td>19.986226</td>\n",
       "      <td>22.571625</td>\n",
       "      <td>...</td>\n",
       "      <td>0.581818</td>\n",
       "      <td>6.296419</td>\n",
       "      <td>7.763085</td>\n",
       "      <td>4.518457</td>\n",
       "      <td>10.036155</td>\n",
       "      <td>0.142149</td>\n",
       "      <td>11.630358</td>\n",
       "      <td>1.231598</td>\n",
       "      <td>-0.009256</td>\n",
       "      <td>0.391460</td>\n",
       "    </tr>\n",
       "    <tr>\n",
       "      <th>std</th>\n",
       "      <td>0.613009</td>\n",
       "      <td>17.358595</td>\n",
       "      <td>1.333831</td>\n",
       "      <td>2068.760082</td>\n",
       "      <td>0.315897</td>\n",
       "      <td>10.024134</td>\n",
       "      <td>13.238373</td>\n",
       "      <td>6.667614</td>\n",
       "      <td>15.585278</td>\n",
       "      <td>15.275453</td>\n",
       "      <td>...</td>\n",
       "      <td>2.022688</td>\n",
       "      <td>2.263020</td>\n",
       "      <td>3.964163</td>\n",
       "      <td>3.162376</td>\n",
       "      <td>5.481742</td>\n",
       "      <td>0.747670</td>\n",
       "      <td>2.667652</td>\n",
       "      <td>1.384911</td>\n",
       "      <td>2.259986</td>\n",
       "      <td>0.488144</td>\n",
       "    </tr>\n",
       "    <tr>\n",
       "      <th>min</th>\n",
       "      <td>1.000000</td>\n",
       "      <td>1.000000</td>\n",
       "      <td>0.000000</td>\n",
       "      <td>33.000000</td>\n",
       "      <td>0.000000</td>\n",
       "      <td>1.000000</td>\n",
       "      <td>95.000000</td>\n",
       "      <td>1.000000</td>\n",
       "      <td>1.000000</td>\n",
       "      <td>1.000000</td>\n",
       "      <td>...</td>\n",
       "      <td>0.000000</td>\n",
       "      <td>0.000000</td>\n",
       "      <td>0.000000</td>\n",
       "      <td>0.000000</td>\n",
       "      <td>0.000000</td>\n",
       "      <td>0.000000</td>\n",
       "      <td>7.600000</td>\n",
       "      <td>-0.800000</td>\n",
       "      <td>-4.060000</td>\n",
       "      <td>0.000000</td>\n",
       "    </tr>\n",
       "    <tr>\n",
       "      <th>25%</th>\n",
       "      <td>1.000000</td>\n",
       "      <td>1.000000</td>\n",
       "      <td>1.000000</td>\n",
       "      <td>9085.000000</td>\n",
       "      <td>1.000000</td>\n",
       "      <td>1.000000</td>\n",
       "      <td>125.000000</td>\n",
       "      <td>1.000000</td>\n",
       "      <td>2.000000</td>\n",
       "      <td>3.000000</td>\n",
       "      <td>...</td>\n",
       "      <td>0.000000</td>\n",
       "      <td>5.000000</td>\n",
       "      <td>6.000000</td>\n",
       "      <td>2.000000</td>\n",
       "      <td>10.517857</td>\n",
       "      <td>0.000000</td>\n",
       "      <td>9.400000</td>\n",
       "      <td>0.300000</td>\n",
       "      <td>-1.700000</td>\n",
       "      <td>0.000000</td>\n",
       "    </tr>\n",
       "    <tr>\n",
       "      <th>50%</th>\n",
       "      <td>1.000000</td>\n",
       "      <td>17.000000</td>\n",
       "      <td>1.000000</td>\n",
       "      <td>9254.000000</td>\n",
       "      <td>1.000000</td>\n",
       "      <td>1.000000</td>\n",
       "      <td>133.100000</td>\n",
       "      <td>1.000000</td>\n",
       "      <td>19.000000</td>\n",
       "      <td>19.000000</td>\n",
       "      <td>...</td>\n",
       "      <td>0.000000</td>\n",
       "      <td>6.000000</td>\n",
       "      <td>8.000000</td>\n",
       "      <td>5.000000</td>\n",
       "      <td>12.333333</td>\n",
       "      <td>0.000000</td>\n",
       "      <td>11.100000</td>\n",
       "      <td>1.400000</td>\n",
       "      <td>0.320000</td>\n",
       "      <td>0.000000</td>\n",
       "    </tr>\n",
       "    <tr>\n",
       "      <th>75%</th>\n",
       "      <td>1.000000</td>\n",
       "      <td>39.000000</td>\n",
       "      <td>2.000000</td>\n",
       "      <td>9556.000000</td>\n",
       "      <td>1.000000</td>\n",
       "      <td>1.000000</td>\n",
       "      <td>140.000000</td>\n",
       "      <td>1.000000</td>\n",
       "      <td>37.000000</td>\n",
       "      <td>37.000000</td>\n",
       "      <td>...</td>\n",
       "      <td>0.000000</td>\n",
       "      <td>7.000000</td>\n",
       "      <td>10.000000</td>\n",
       "      <td>6.000000</td>\n",
       "      <td>13.500000</td>\n",
       "      <td>0.000000</td>\n",
       "      <td>13.900000</td>\n",
       "      <td>2.600000</td>\n",
       "      <td>1.790000</td>\n",
       "      <td>1.000000</td>\n",
       "    </tr>\n",
       "    <tr>\n",
       "      <th>max</th>\n",
       "      <td>6.000000</td>\n",
       "      <td>57.000000</td>\n",
       "      <td>6.000000</td>\n",
       "      <td>9991.000000</td>\n",
       "      <td>1.000000</td>\n",
       "      <td>43.000000</td>\n",
       "      <td>190.000000</td>\n",
       "      <td>109.000000</td>\n",
       "      <td>44.000000</td>\n",
       "      <td>44.000000</td>\n",
       "      <td>...</td>\n",
       "      <td>19.000000</td>\n",
       "      <td>23.000000</td>\n",
       "      <td>33.000000</td>\n",
       "      <td>20.000000</td>\n",
       "      <td>18.571429</td>\n",
       "      <td>12.000000</td>\n",
       "      <td>16.200000</td>\n",
       "      <td>3.700000</td>\n",
       "      <td>3.510000</td>\n",
       "      <td>1.000000</td>\n",
       "    </tr>\n",
       "  </tbody>\n",
       "</table>\n",
       "<p>8 rows × 37 columns</p>\n",
       "</div>"
      ],
      "text/plain": [
       "       Marital status  Application mode  Application order       Course  \\\n",
       "count     3630.000000       3630.000000        3630.000000  3630.000000   \n",
       "mean         1.184298         18.421763           1.750138  8853.980992   \n",
       "std          0.613009         17.358595           1.333831  2068.760082   \n",
       "min          1.000000          1.000000           0.000000    33.000000   \n",
       "25%          1.000000          1.000000           1.000000  9085.000000   \n",
       "50%          1.000000         17.000000           1.000000  9254.000000   \n",
       "75%          1.000000         39.000000           2.000000  9556.000000   \n",
       "max          6.000000         57.000000           6.000000  9991.000000   \n",
       "\n",
       "       Daytime/evening attendance\\t  Previous qualification  \\\n",
       "count                   3630.000000             3630.000000   \n",
       "mean                       0.887603                4.532231   \n",
       "std                        0.315897               10.024134   \n",
       "min                        0.000000                1.000000   \n",
       "25%                        1.000000                1.000000   \n",
       "50%                        1.000000                1.000000   \n",
       "75%                        1.000000                1.000000   \n",
       "max                        1.000000               43.000000   \n",
       "\n",
       "       Previous qualification (grade)  Nacionality  Mother's qualification  \\\n",
       "count                     3630.000000  3630.000000             3630.000000   \n",
       "mean                       132.920606     1.828099               19.986226   \n",
       "std                         13.238373     6.667614               15.585278   \n",
       "min                         95.000000     1.000000                1.000000   \n",
       "25%                        125.000000     1.000000                2.000000   \n",
       "50%                        133.100000     1.000000               19.000000   \n",
       "75%                        140.000000     1.000000               37.000000   \n",
       "max                        190.000000   109.000000               44.000000   \n",
       "\n",
       "       Father's qualification  ...  Curricular units 2nd sem (credited)  \\\n",
       "count             3630.000000  ...                          3630.000000   \n",
       "mean                22.571625  ...                             0.581818   \n",
       "std                 15.275453  ...                             2.022688   \n",
       "min                  1.000000  ...                             0.000000   \n",
       "25%                  3.000000  ...                             0.000000   \n",
       "50%                 19.000000  ...                             0.000000   \n",
       "75%                 37.000000  ...                             0.000000   \n",
       "max                 44.000000  ...                            19.000000   \n",
       "\n",
       "       Curricular units 2nd sem (enrolled)  \\\n",
       "count                          3630.000000   \n",
       "mean                              6.296419   \n",
       "std                               2.263020   \n",
       "min                               0.000000   \n",
       "25%                               5.000000   \n",
       "50%                               6.000000   \n",
       "75%                               7.000000   \n",
       "max                              23.000000   \n",
       "\n",
       "       Curricular units 2nd sem (evaluations)  \\\n",
       "count                             3630.000000   \n",
       "mean                                 7.763085   \n",
       "std                                  3.964163   \n",
       "min                                  0.000000   \n",
       "25%                                  6.000000   \n",
       "50%                                  8.000000   \n",
       "75%                                 10.000000   \n",
       "max                                 33.000000   \n",
       "\n",
       "       Curricular units 2nd sem (approved)  Curricular units 2nd sem (grade)  \\\n",
       "count                          3630.000000                       3630.000000   \n",
       "mean                              4.518457                         10.036155   \n",
       "std                               3.162376                          5.481742   \n",
       "min                               0.000000                          0.000000   \n",
       "25%                               2.000000                         10.517857   \n",
       "50%                               5.000000                         12.333333   \n",
       "75%                               6.000000                         13.500000   \n",
       "max                              20.000000                         18.571429   \n",
       "\n",
       "       Curricular units 2nd sem (without evaluations)  Unemployment rate  \\\n",
       "count                                     3630.000000        3630.000000   \n",
       "mean                                         0.142149          11.630358   \n",
       "std                                          0.747670           2.667652   \n",
       "min                                          0.000000           7.600000   \n",
       "25%                                          0.000000           9.400000   \n",
       "50%                                          0.000000          11.100000   \n",
       "75%                                          0.000000          13.900000   \n",
       "max                                         12.000000          16.200000   \n",
       "\n",
       "       Inflation rate          GDP      Dropout  \n",
       "count     3630.000000  3630.000000  3630.000000  \n",
       "mean         1.231598    -0.009256     0.391460  \n",
       "std          1.384911     2.259986     0.488144  \n",
       "min         -0.800000    -4.060000     0.000000  \n",
       "25%          0.300000    -1.700000     0.000000  \n",
       "50%          1.400000     0.320000     0.000000  \n",
       "75%          2.600000     1.790000     1.000000  \n",
       "max          3.700000     3.510000     1.000000  \n",
       "\n",
       "[8 rows x 37 columns]"
      ]
     },
     "execution_count": 8,
     "metadata": {},
     "output_type": "execute_result"
    }
   ],
   "source": [
    "df.describe()"
   ]
  },
  {
   "cell_type": "markdown",
   "id": "u8Sap9WA-cvQ",
   "metadata": {
    "id": "u8Sap9WA-cvQ"
   },
   "source": [
    "---\n",
    "## Redução de Dimensionalidade e Pipeline de Pré-processamento\n",
    "\n",
    "Neste estágio, aprimoramos o pré-processamento de dados incorporando a Análise de Componentes Principais (PCA). Começamos inicialmente com a importação e configuração do PCA da biblioteca `sklearn.decomposition`, definindo-o para reter 80% da variância dos dados.\n",
    "\n",
    "No conjunto de treinamento (`X_train`), usamos o método `fit_transform` para ajustar o pipeline aos dados e, simultaneamente, transformá-los. O resultado dessa transformação é armazenado em `X_train_pca`. Para o conjunto de teste (`X_test`), empregamos o método `transform` para aplicar as mesmas transformações com os parâmetros ajustados durante o treinamento. Isso resulta em `X_test_pca`.\n",
    "\n",
    "Em seguida, criamos duas instâncias de `CSVDataset`, uma para o conjunto de treinamento e outra para o conjunto de testes."
   ]
  },
  {
   "cell_type": "code",
   "execution_count": 9,
   "id": "MyO-XIZH57SV",
   "metadata": {
    "ExecuteTime": {
     "start_time": "2023-11-26T00:47:27.561889Z"
    },
    "id": "MyO-XIZH57SV"
   },
   "outputs": [],
   "source": [
    "from sklearn.preprocessing import StandardScaler\n",
    "from sklearn.decomposition import PCA\n",
    "from sklearn.pipeline import make_pipeline\n",
    "\n",
    "scaler = StandardScaler()\n",
    "\n",
    "pca = PCA(n_components=0.8)\n",
    "\n",
    "pipeline = make_pipeline(scaler, pca)\n",
    "\n",
    "X_train_pca = pipeline.fit_transform(X_train)\n",
    "\n",
    "X_test_pca = pipeline.transform(X_test)\n",
    "\n",
    "# Criar datasets PyTorch\n",
    "train_dataset = CSVDataset(X_train_pca, y_train)\n",
    "test_dataset = CSVDataset(X_test_pca, y_test)"
   ]
  },
  {
   "cell_type": "code",
   "execution_count": 10,
   "id": "dpPJaZT960a3",
   "metadata": {
    "ExecuteTime": {
     "start_time": "2023-11-26T00:47:27.564351Z"
    },
    "colab": {
     "base_uri": "https://localhost:8080/"
    },
    "id": "dpPJaZT960a3",
    "outputId": "0919bafa-fda8-44d1-ee74-1738fb9d4db9"
   },
   "outputs": [
    {
     "data": {
      "text/plain": [
       "(array([[-5.8463993 , -1.3790396 , -2.874898  , ...,  0.55818516,\n",
       "          0.22826365, -0.78947836],\n",
       "        [ 0.20774123, -0.99490434,  0.40077075, ...,  0.34805715,\n",
       "          0.96106744,  0.92383415],\n",
       "        [-3.1222608 ,  3.0898252 ,  0.6123304 , ..., -1.860487  ,\n",
       "         -0.4627076 ,  1.7729449 ],\n",
       "        ...,\n",
       "        [10.022979  ,  4.817454  , -0.83692676, ..., -0.5847175 ,\n",
       "         -0.56172353, -0.96178216],\n",
       "        [-3.018208  ,  2.0435925 , -1.5123434 , ...,  0.72649616,\n",
       "         -1.0889461 , -0.19448298],\n",
       "        [ 4.4777427 ,  2.9810402 ,  0.21792802, ...,  0.50901514,\n",
       "          0.66408956,  0.10984462]], dtype=float32),\n",
       " array([[-5.909563  , -0.5748297 , -1.1094755 , ..., -0.18576607,\n",
       "         -0.4978487 , -2.4878583 ],\n",
       "        [-0.93038744,  2.7006207 , -1.2350564 , ..., -0.04033089,\n",
       "          0.36496687, -0.21110648],\n",
       "        [-0.5456989 , -0.60585105, -0.9633789 , ...,  0.9023639 ,\n",
       "         -1.0695124 , -1.1092471 ],\n",
       "        ...,\n",
       "        [-0.14632176, -1.0091321 , -0.94332457, ...,  0.09197312,\n",
       "         -0.03332502, -0.24574015],\n",
       "        [ 0.26318207, -1.0664238 ,  0.32742637, ..., -0.23718622,\n",
       "          1.5315897 , -0.5058072 ],\n",
       "        [-1.5584117 ,  2.3528032 , -0.2764545 , ..., -0.23073167,\n",
       "          0.8485976 ,  1.153098  ]], dtype=float32))"
      ]
     },
     "execution_count": 10,
     "metadata": {},
     "output_type": "execute_result"
    }
   ],
   "source": [
    "train_dataset.X, test_dataset.X"
   ]
  },
  {
   "cell_type": "markdown",
   "id": "uh9tu6f367CF",
   "metadata": {
    "id": "uh9tu6f367CF"
   },
   "source": [
    "## Aplicação do DataLoader\n",
    "\n",
    "A utilização de um `DataLoader` é boa prática para o treinamento de modelos de redes neurais com PyTorch. Ele encapsula o gerenciamento dos dados e permite customizações sob demanda.\n",
    "\n",
    "Definimos um `DataLoader` para o nosso conjunto de dados de testes. O tamanho do batch foi definido em 32. Decidimos por ativar o embaralhamento (`shuffle=True`) pois este pode ser benéfico ao treinamento, evitando que o modelo memorize a ordem dos dados. Se os dados não forem embaralhados, o modelo pode 'aprender' a predizer o próximo batch baseado na ordem dos dados, ao invés de fato aprender com os padrões presentes nestes dados [3].\n",
    "\n"
   ]
  },
  {
   "cell_type": "code",
   "execution_count": 11,
   "id": "1JJm7MSLv9bb",
   "metadata": {
    "ExecuteTime": {
     "start_time": "2023-11-26T00:47:27.566114Z"
    },
    "id": "1JJm7MSLv9bb"
   },
   "outputs": [],
   "source": [
    "from torch.utils.data import DataLoader\n",
    "\n",
    "train = DataLoader(train_dataset, batch_size=32, shuffle=True)"
   ]
  },
  {
   "cell_type": "markdown",
   "id": "BPmYCJp86-TB",
   "metadata": {
    "id": "BPmYCJp86-TB"
   },
   "source": [
    "---\n",
    "## Definindo o Modelo de Rede Neural\n",
    "\n",
    "Determinamos o número de características de entrada (`n_inputs`) com base na forma do conjunto de dados de teste processado pelo PCA. Esse número guia a configuração da primeira camada da rede.\n",
    "\n",
    "O modelo é construído como uma sequência de camadas, cada uma com a função de ativação `relu`, exceto a última camada que utiliza `sigmoid`. A primeira camada recebe `shape` neurônios, correspondendo ao número de características de entrada. A segunda camada tem metade do número de neurônios da primeira, seguindo uma estrutura que gradualmente condensa a informação. A última camada, com um único neurônio e ativação `sigmoid`, é adequada para uma tarefa de classificação binária, produzindo uma saída entre 0 e 1.\n",
    "\n",
    "A função de perda escolhida foi a `BCELoss` (Binary Cross Entropy Loss) e o optimizador `Adam`, ambos adequados para a proposta de classificação binária."
   ]
  },
  {
   "cell_type": "code",
   "execution_count": 12,
   "id": "uTA0W8-gv_Fi",
   "metadata": {
    "ExecuteTime": {
     "end_time": "2023-11-26T00:47:27.570472Z",
     "start_time": "2023-11-26T00:47:27.567716Z"
    },
    "colab": {
     "base_uri": "https://localhost:8080/"
    },
    "id": "uTA0W8-gv_Fi",
    "outputId": "c5c662ba-15af-43f3-80b1-855db8ba4369"
   },
   "outputs": [
    {
     "name": "stdout",
     "output_type": "stream",
     "text": [
      "MLP(\n",
      "  (hidden1): Linear(in_features=16, out_features=8, bias=True)\n",
      "  (act1): ReLU()\n",
      "  (hidden2): Linear(in_features=8, out_features=4, bias=True)\n",
      "  (act2): ReLU()\n",
      "  (hidden3): Linear(in_features=4, out_features=1, bias=True)\n",
      "  (act3): Sigmoid()\n",
      ")\n"
     ]
    }
   ],
   "source": [
    "from torch.optim import SGD, Adam\n",
    "import torch.nn as nn\n",
    "\n",
    "class MLP(nn.Module):\n",
    "    # define model elements\n",
    "    def __init__(self, n_inputs):\n",
    "        super(MLP, self).__init__()\n",
    "\n",
    "        self.hidden1 = nn.Linear(n_inputs, 8)\n",
    "        self.act1 = nn.ReLU()\n",
    "\n",
    "        self.hidden2 = nn.Linear(8, 4)\n",
    "        self.act2 = nn.ReLU()\n",
    "\n",
    "        self.hidden3 = nn.Linear(4, 1)\n",
    "        self.act3 = nn.Sigmoid()\n",
    "\n",
    "    # forward\n",
    "    def forward(self, X):\n",
    "        X = self.hidden1(X)\n",
    "        X = self.act1(X)\n",
    "\n",
    "        X = self.hidden2(X)\n",
    "        X = self.act2(X)\n",
    "\n",
    "        X = self.hidden3(X)\n",
    "        X = self.act3(X)\n",
    "\n",
    "        return X\n",
    "\n",
    "model = MLP(train_dataset.X.shape[1]).to(device)\n",
    "loss_fn = nn.BCELoss()\n",
    "optimizer = Adam(model.parameters(), lr=0.001)\n",
    "\n",
    "print(model)"
   ]
  },
  {
   "cell_type": "markdown",
   "id": "KpdWpIR47EcH",
   "metadata": {
    "id": "KpdWpIR47EcH"
   },
   "source": [
    "## Treinamento do Modelo\n",
    "\n",
    "Configuramos um total de 10 iterações no treinamento do modelo. Este valor foi definido empiricamente.\n",
    "\n",
    "Ao final do treinamento, o histórico é armazenado em uma variável acessória. Este histórico contém informações valiosas sobre a evolução da função de perda ao longo das épocas, permitindo a análise posterior do desempenho do modelo."
   ]
  },
  {
   "cell_type": "code",
   "execution_count": 13,
   "id": "JI23XnGrwDob",
   "metadata": {
    "ExecuteTime": {
     "start_time": "2023-11-26T00:47:27.568791Z"
    },
    "id": "JI23XnGrwDob"
   },
   "outputs": [],
   "source": [
    "import numpy as np\n",
    "\n",
    "EPOCHS = 10\n",
    "loss_list = np.zeros((EPOCHS,))\n",
    "\n",
    "for epoch in range(EPOCHS):\n",
    "    loss_batch = 0\n",
    "\n",
    "    for x_batch, y_batch in train:\n",
    "        x_batch = x_batch.to(device)\n",
    "        y_batch = y_batch.to(device)\n",
    "\n",
    "        # compute the model output\n",
    "        y_pred = model(x_batch)\n",
    "        loss = loss_fn(y_pred, y_batch)\n",
    "\n",
    "        # Zero gradients\n",
    "        optimizer.zero_grad()\n",
    "        loss.backward()\n",
    "        optimizer.step()\n",
    "        loss_batch = loss_batch + loss.item()\n",
    "\n",
    "    loss_list[epoch] = loss_batch / len(x_batch)"
   ]
  },
  {
   "cell_type": "markdown",
   "id": "nWMWUAtbYg8k",
   "metadata": {
    "id": "nWMWUAtbYg8k"
   },
   "source": [
    "---\n",
    "## Curva de Aprendizado e Avaliação do Desempenho do Modelo\n",
    "\n",
    "Depois o treinamento, exibidos o histórico em um gráfico para análise.\n",
    "\n",
    "O gráfico apresenta a evolução da perda ao longo das épocas. Observamos que a perda no conjunto de validação diminui de forma consistente ao longo do tempo, o que indica que o modelo está aprendendo efetivamente e melhorando a sua capacidade de generalização."
   ]
  },
  {
   "cell_type": "code",
   "execution_count": 14,
   "id": "A6lqS7mmwEvT",
   "metadata": {
    "ExecuteTime": {
     "start_time": "2023-11-26T00:47:27.569776Z"
    },
    "colab": {
     "base_uri": "https://localhost:8080/",
     "height": 449
    },
    "id": "A6lqS7mmwEvT",
    "outputId": "96d6fbcb-8616-4cdb-c89e-fc7485f96173"
   },
   "outputs": [
    {
     "data": {
      "image/png": "[encoded data removed]",
      "text/plain": [
       "<Figure size 640x480 with 1 Axes>"
      ]
     },
     "metadata": {},
     "output_type": "display_data"
    }
   ],
   "source": [
    "import matplotlib.pyplot as plt\n",
    "\n",
    "def plot_history(loss_list):\n",
    "\n",
    "  plt.plot(loss_list)\n",
    "  plt.ylabel(\"Train Loss\")\n",
    "  plt.xlabel(\"Epoch\")\n",
    "  plt.show()\n",
    "\n",
    "plot_history(loss_list)"
   ]
  },
  {
   "cell_type": "markdown",
   "id": "p2tzzQMzYu_Y",
   "metadata": {
    "id": "p2tzzQMzYu_Y"
   },
   "source": [
    "---\n",
    "## Avaliação Final do Modelo\n",
    "\n",
    "Concluído o treinamento da rede neural, procedemos à sua avaliação usando o conjunto de dados `test_dataset`. Note que o `DataLoader` está sendo utilizado e o parâmetro `batch_size=len(test_dataset)` indica que todo o conjunto de teste está sendo retornado para as variáveis `xx_test` e `yy_test`.\n",
    "\n",
    "Em seguida, invocamos o modelo, passando o conjunto de teste `xx_test`, não sem antes enviá-lo para o contexto correto de execução. Em seguida, o retorno da predição é arredondado ( `round()`) e armazenado na variável `yy_pred`.\n",
    "\n",
    "Por fim, calculamos a acurácia geral do modelo, que nos informa uma proporção de previsões corretas sobre o total de previsões. Com uma acurácia de aproximadamente 88%, podemos concluir que o modelo é bastante eficaz."
   ]
  },
  {
   "cell_type": "code",
   "execution_count": 15,
   "id": "cfEdGCLfwX_a",
   "metadata": {
    "ExecuteTime": {
     "start_time": "2023-11-26T00:47:27.570714Z"
    },
    "colab": {
     "base_uri": "https://localhost:8080/"
    },
    "id": "cfEdGCLfwX_a",
    "outputId": "5f44afe8-2c04-47aa-c072-022c2d1fcb5f"
   },
   "outputs": [
    {
     "name": "stdout",
     "output_type": "stream",
     "text": [
      "Acuracidade:  0.9054178145087236\n"
     ]
    }
   ],
   "source": [
    "from sklearn.metrics import accuracy_score\n",
    "\n",
    "xx_test, yy_test = next(iter(DataLoader(test_dataset, batch_size=len(test_dataset))))\n",
    "\n",
    "yy_pred = model(xx_test.to(device)).round()\n",
    "\n",
    "print('Acuracidade: ', accuracy_score(yy_test.detach().cpu().numpy(), yy_pred.detach().cpu().numpy()))"
   ]
  },
  {
   "cell_type": "markdown",
   "id": "irh_qKn4CfNw",
   "metadata": {
    "id": "irh_qKn4CfNw"
   },
   "source": [
    "## Adicionando a Regularização L2\n",
    "\n",
    "Apesar da boa eficácia do modelo, em torno de 88%, ainda é possível explorar outras técnicas para obter melhores resultados. Neste exemplo, utilizaremos a Regularização L2, disponibilizada pelo parâmetro `weight_decay` da função de otimização. O valor `0.001` foi definido empiricamente.\n",
    "\n",
    "Em seguida, treinamentos novamente o modelo com os mesmos parâmetros do treinamento anterior e avaliamos os resultados."
   ]
  },
  {
   "cell_type": "code",
   "execution_count": 16,
   "id": "ze96TeS1Ce3o",
   "metadata": {
    "ExecuteTime": {
     "start_time": "2023-11-26T00:47:27.571782Z"
    },
    "colab": {
     "base_uri": "https://localhost:8080/"
    },
    "id": "ze96TeS1Ce3o",
    "outputId": "a9da8fc6-767d-42e8-f6f3-cd8e9689978d"
   },
   "outputs": [
    {
     "name": "stdout",
     "output_type": "stream",
     "text": [
      "MLP(\n",
      "  (hidden1): Linear(in_features=16, out_features=8, bias=True)\n",
      "  (act1): ReLU()\n",
      "  (hidden2): Linear(in_features=8, out_features=4, bias=True)\n",
      "  (act2): ReLU()\n",
      "  (hidden3): Linear(in_features=4, out_features=1, bias=True)\n",
      "  (act3): Sigmoid()\n",
      ")\n"
     ]
    }
   ],
   "source": [
    "model = MLP(train_dataset.X.shape[1]).to(device)\n",
    "loss_fn = nn.BCELoss()\n",
    "\n",
    "# weight_decay (float, optional) – weight decay (L2 penalty) (default: 0)\n",
    "optimizer = Adam(model.parameters(),  weight_decay=0.001, lr=0.001)\n",
    "\n",
    "print(model)"
   ]
  },
  {
   "cell_type": "code",
   "execution_count": 17,
   "id": "r5YrA9NPDncJ",
   "metadata": {
    "ExecuteTime": {
     "start_time": "2023-11-26T00:47:27.572996Z"
    },
    "id": "r5YrA9NPDncJ"
   },
   "outputs": [],
   "source": [
    "import numpy as np\n",
    "\n",
    "EPOCHS = 10\n",
    "loss_list = np.zeros((EPOCHS,))\n",
    "\n",
    "for epoch in range(EPOCHS):\n",
    "    loss_batch = 0\n",
    "\n",
    "    for x_batch, y_batch in train:\n",
    "        x_batch = x_batch.to(device)\n",
    "        y_batch = y_batch.to(device)\n",
    "\n",
    "        # compute the model output\n",
    "        y_pred = model(x_batch)\n",
    "        loss = loss_fn(y_pred, y_batch)\n",
    "\n",
    "        # Zero gradients\n",
    "        optimizer.zero_grad()\n",
    "        loss.backward()\n",
    "        optimizer.step()\n",
    "        loss_batch = loss_batch + loss.item()\n",
    "\n",
    "    loss_list[epoch] = loss_batch / len(x_batch)"
   ]
  },
  {
   "cell_type": "code",
   "execution_count": 18,
   "id": "fhtHBB2lDqBq",
   "metadata": {
    "ExecuteTime": {
     "start_time": "2023-11-26T00:47:27.573936Z"
    },
    "colab": {
     "base_uri": "https://localhost:8080/",
     "height": 449
    },
    "id": "fhtHBB2lDqBq",
    "outputId": "46056596-4fe4-405b-ac53-f95985739238"
   },
   "outputs": [
    {
     "data": {
      "image/png": "[encoded data removed]",
      "text/plain": [
       "<Figure size 640x480 with 1 Axes>"
      ]
     },
     "metadata": {},
     "output_type": "display_data"
    }
   ],
   "source": [
    "plot_history(loss_list)"
   ]
  },
  {
   "cell_type": "code",
   "execution_count": 19,
   "id": "YbF-WPwPDtrE",
   "metadata": {
    "ExecuteTime": {
     "start_time": "2023-11-26T00:47:27.575364Z"
    },
    "id": "YbF-WPwPDtrE"
   },
   "outputs": [],
   "source": [
    "test = DataLoader(test_dataset, batch_size=len(test_dataset))\n",
    "xx_test, yy_test = next(iter(test))\n",
    "yy_pred = model(xx_test.to(device)).round()"
   ]
  },
  {
   "cell_type": "markdown",
   "id": "XO0hkLAucg9n",
   "metadata": {
    "id": "XO0hkLAucg9n"
   },
   "source": [
    "A acurácia em torno de 88% demonstra que a técnica de Regularização L2 não foi eficaz em aprimorar a acuracidade do modelo."
   ]
  },
  {
   "cell_type": "code",
   "execution_count": 20,
   "id": "WTYoCAFMDvVl",
   "metadata": {
    "ExecuteTime": {
     "start_time": "2023-11-26T00:47:27.576515Z"
    },
    "colab": {
     "base_uri": "https://localhost:8080/"
    },
    "id": "WTYoCAFMDvVl",
    "outputId": "eb9a0640-0d5f-450a-c24b-305c87f2a697"
   },
   "outputs": [
    {
     "name": "stdout",
     "output_type": "stream",
     "text": [
      "0.8861340679522498\n"
     ]
    }
   ],
   "source": [
    "print(accuracy_score(yy_test.detach().cpu().numpy(), yy_pred.detach().cpu().numpy()))"
   ]
  },
  {
   "cell_type": "markdown",
   "id": "0n_DklqKaaMJ",
   "metadata": {
    "id": "0n_DklqKaaMJ"
   },
   "source": [
    "---\n",
    "## Conclusões\n",
    "\n",
    "Ao finalizar a análise e modelagem do conjunto de dados, concluímos que as redes neurais, com o uso do PyTorch, demonstraram ser ferramentas eficazes para prever a evasão e o sucesso acadêmico de estudantes.\n",
    "\n",
    "A aplicação de técnicas como normalização e PCA e contribuíram significativamente para a eficácia do modelo.\n",
    "\n",
    "A precisão alcançada, em torno de 88%, sugere que o modelo pode ser uma ferramenta valiosa para identificar estudantes em risco, permitindo intervenções proativas para melhorar a retenção e o sucesso acadêmico."
   ]
  },
  {
   "cell_type": "markdown",
   "id": "5ez4tqRYAeFd",
   "metadata": {
    "id": "5ez4tqRYAeFd"
   },
   "source": [
    "---\n",
    "## Referências\n",
    "\n",
    "1. University of California, Irvine. Predict Student's Dropout and Academic Success. UCI Machine Learning Repository. Disponível em: https://archive.ics.uci.edu/dataset/697/predict+students+dropout+and+academic+success. Acesso em: 23 nov.2023.\n",
    "\n",
    "2. Pierian Training. Machine Learning in Python: Principal Component Analysis (PCA). Disponível em: https://pieriantraining.com/machine-learning-in-python-principal-component-analysis-pca/. Acesso em: 23 nov.2023.\n",
    "\n",
    "3. Tantai, Hengtao. “Improving Control and Reproducibility of PyTorch DataLoader with Sampler Instead of Shuffle Argument.” Medium, 22 fev. 2023. Disponível em: https://medium.com/@zergtant/improving-control-and-reproducibility-of-pytorch-dataloader-with-sampler-instead-of-shuffle-7f795490256e. Acesso em: 25 nov. 2023.\n",
    "\n",
    "4. PyTorch. torch.optim.Adam. Disponível em: https://pytorch.org/docs/stable/generated/torch.optim.Adam.html. Acesso em: 25 nov.2023."
   ]
  }
 ],
 "metadata": {
  "accelerator": "GPU",
  "colab": {
   "gpuType": "T4",
   "provenance": []
  },
  "kernelspec": {
   "display_name": "Python 3 (ipykernel)",
   "language": "python",
   "name": "python3"
  },
  "language_info": {
   "codemirror_mode": {
    "name": "ipython",
    "version": 3
   },
   "file_extension": ".py",
   "mimetype": "text/x-python",
   "name": "python",
   "nbconvert_exporter": "python",
   "pygments_lexer": "ipython3",
   "version": "3.10.12"
  }
 },
 "nbformat": 4,
 "nbformat_minor": 5
}
